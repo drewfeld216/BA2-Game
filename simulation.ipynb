{
 "cells": [
  {
   "cell_type": "code",
   "execution_count": 54,
   "metadata": {},
   "outputs": [],
   "source": [
    "import numpy as np\n",
    "import pandas as pd\n",
    "import random\n",
    "from scipy.stats import dirichlet, expon, uniform, norm\n",
    "from faker import Faker\n",
    "fake = Faker()"
   ]
  },
  {
   "cell_type": "code",
   "execution_count": 55,
   "metadata": {},
   "outputs": [],
   "source": [
    "# Define some global parameters\n",
    "N_DAYS = 365*2\n",
    "N_AUTHORS = 50\n",
    "N_USERS = 1000\n",
    "\n",
    "# Define possible topics and baseline probabilities // right now all made up, but should be based on data eventually\n",
    "topics = ['Opinion', 'Politics', 'World Events', 'Business', 'Technology', 'Arts & Culture', 'Sports', 'Health', 'Home', 'Travel', 'Fashion', 'Food']\n",
    "topics_probs = np.array([[0.1, 0.1, 0.1, 0.1, 0.08, 0.08, 0.08, 0.08, 0.08, 0.07, 0.07, 0.06]])\n",
    "\n",
    "# Generate fake authors and probability vectors\n",
    "authors_names = [fake.name() for i in range(N_AUTHORS)]\n",
    "authors_quality = [uniform.rvs()*10 for i in range(N_AUTHORS)]\n",
    "\n",
    "alphas = np.ones(len(topics)) # Concentration parameters TBD, right now uniform\n",
    "authors_topicsprobs = np.array([dirichlet.rvs(alphas)[0] for auth in authors_names])\n",
    "authors_popularity = dirichlet.rvs(np.ones(N_AUTHORS)*10)[0]"
   ]
  },
  {
   "cell_type": "code",
   "execution_count": 56,
   "outputs": [
    {
     "data": {
      "text/plain": "               id       start    duration   intensity\ncount  733.000000  733.000000  733.000000  733.000000\nmean   366.000000  356.978172    3.976808    0.200010\nstd    211.743162  210.343148    3.126348    0.104661\nmin      0.000000    0.000000    1.000000    0.100377\n25%    183.000000  165.000000    2.000000    0.126996\n50%    366.000000  365.000000    3.000000    0.166656\n75%    549.000000  535.000000    5.000000    0.239944\nmax    732.000000  728.000000   26.000000    1.089871",
      "text/html": "<div>\n<style scoped>\n    .dataframe tbody tr th:only-of-type {\n        vertical-align: middle;\n    }\n\n    .dataframe tbody tr th {\n        vertical-align: top;\n    }\n\n    .dataframe thead th {\n        text-align: right;\n    }\n</style>\n<table border=\"1\" class=\"dataframe\">\n  <thead>\n    <tr style=\"text-align: right;\">\n      <th></th>\n      <th>id</th>\n      <th>start</th>\n      <th>duration</th>\n      <th>intensity</th>\n    </tr>\n  </thead>\n  <tbody>\n    <tr>\n      <th>count</th>\n      <td>733.000000</td>\n      <td>733.000000</td>\n      <td>733.000000</td>\n      <td>733.000000</td>\n    </tr>\n    <tr>\n      <th>mean</th>\n      <td>366.000000</td>\n      <td>356.978172</td>\n      <td>3.976808</td>\n      <td>0.200010</td>\n    </tr>\n    <tr>\n      <th>std</th>\n      <td>211.743162</td>\n      <td>210.343148</td>\n      <td>3.126348</td>\n      <td>0.104661</td>\n    </tr>\n    <tr>\n      <th>min</th>\n      <td>0.000000</td>\n      <td>0.000000</td>\n      <td>1.000000</td>\n      <td>0.100377</td>\n    </tr>\n    <tr>\n      <th>25%</th>\n      <td>183.000000</td>\n      <td>165.000000</td>\n      <td>2.000000</td>\n      <td>0.126996</td>\n    </tr>\n    <tr>\n      <th>50%</th>\n      <td>366.000000</td>\n      <td>365.000000</td>\n      <td>3.000000</td>\n      <td>0.166656</td>\n    </tr>\n    <tr>\n      <th>75%</th>\n      <td>549.000000</td>\n      <td>535.000000</td>\n      <td>5.000000</td>\n      <td>0.239944</td>\n    </tr>\n    <tr>\n      <th>max</th>\n      <td>732.000000</td>\n      <td>728.000000</td>\n      <td>26.000000</td>\n      <td>1.089871</td>\n    </tr>\n  </tbody>\n</table>\n</div>"
     },
     "execution_count": 56,
     "metadata": {},
     "output_type": "execute_result"
    }
   ],
   "source": [
    "events = []\n",
    "articles = []\n",
    "\n",
    "# Iterate over days to generate all articles\n",
    "for day in range(N_DAYS):\n",
    "\n",
    "    # Generate new event with some probability (TBD)\n",
    "    for _ in range(0, int(norm.rvs(loc=1, scale=2))):\n",
    "        event_influence = dirichlet.rvs(alphas) # Concentration parameters TBD\n",
    "        event_duration = expon.rvs(loc=0.01, scale=0.1) # some events should be long-lived\n",
    "        duration_days = np.ceil(event_duration * 30)\n",
    "        # hmm, event duration and intensity is generally correlated\n",
    "        event_intensity = expon.rvs(scale=0.1, loc=0.1)\n",
    "        events.append({'id': len(events), 'start': day, 'influence': event_influence, 'duration': duration_days, 'intensity': event_intensity})\n",
    "\n",
    "    # Loop through events and sum topic probabilities of all active events\n",
    "    day_topicsprobs = topics_probs.copy()\n",
    "    for event in events:\n",
    "        if event['start'] + event['duration'] >= day:\n",
    "            day_topicsprobs += event['intensity']*event['influence']\n",
    "\n",
    "    # Normalize probabilities\n",
    "    day_topicsprobs = day_topicsprobs[0] / day_topicsprobs[0].sum()\n",
    "\n",
    "    # Generate articles for day\n",
    "    n_articles = round(norm.rvs(loc=N_AUTHORS / 3, scale=N_AUTHORS / 10))\n",
    "    for i in range(n_articles):\n",
    "        article_topic = np.random.choice(topics, p=day_topicsprobs)\n",
    "        # Normalize probabilities\n",
    "        author_probs = authors_topicsprobs[:, topics.index(article_topic)]\n",
    "        author_probs = author_probs / author_probs.sum()\n",
    "        article_author = np.random.choice(authors_names, p=author_probs)\n",
    "        articles.append({'id': len(articles), 'day': day, 'topic': article_topic, 'author': article_author})\n",
    "\n",
    "events_df = pd.DataFrame(events)\n",
    "articles_df = pd.DataFrame(articles)\n",
    "\n",
    "events_df.describe()"
   ],
   "metadata": {
    "collapsed": false,
    "pycharm": {
     "name": "#%%\n"
    }
   }
  },
  {
   "cell_type": "code",
   "execution_count": 57,
   "metadata": {},
   "outputs": [
    {
     "data": {
      "text/plain": "                 id           day\ncount  12203.000000  12203.000000\nmean    6101.000000    360.604933\nstd     3522.847002    211.167557\nmin        0.000000      0.000000\n25%     3050.500000    176.000000\n50%     6101.000000    359.000000\n75%     9151.500000    544.000000\nmax    12202.000000    729.000000",
      "text/html": "<div>\n<style scoped>\n    .dataframe tbody tr th:only-of-type {\n        vertical-align: middle;\n    }\n\n    .dataframe tbody tr th {\n        vertical-align: top;\n    }\n\n    .dataframe thead th {\n        text-align: right;\n    }\n</style>\n<table border=\"1\" class=\"dataframe\">\n  <thead>\n    <tr style=\"text-align: right;\">\n      <th></th>\n      <th>id</th>\n      <th>day</th>\n    </tr>\n  </thead>\n  <tbody>\n    <tr>\n      <th>count</th>\n      <td>12203.000000</td>\n      <td>12203.000000</td>\n    </tr>\n    <tr>\n      <th>mean</th>\n      <td>6101.000000</td>\n      <td>360.604933</td>\n    </tr>\n    <tr>\n      <th>std</th>\n      <td>3522.847002</td>\n      <td>211.167557</td>\n    </tr>\n    <tr>\n      <th>min</th>\n      <td>0.000000</td>\n      <td>0.000000</td>\n    </tr>\n    <tr>\n      <th>25%</th>\n      <td>3050.500000</td>\n      <td>176.000000</td>\n    </tr>\n    <tr>\n      <th>50%</th>\n      <td>6101.000000</td>\n      <td>359.000000</td>\n    </tr>\n    <tr>\n      <th>75%</th>\n      <td>9151.500000</td>\n      <td>544.000000</td>\n    </tr>\n    <tr>\n      <th>max</th>\n      <td>12202.000000</td>\n      <td>729.000000</td>\n    </tr>\n  </tbody>\n</table>\n</div>"
     },
     "execution_count": 57,
     "metadata": {},
     "output_type": "execute_result"
    }
   ],
   "source": [
    "articles_df.describe()"
   ]
  },
  {
   "cell_type": "code",
   "execution_count": 58,
   "metadata": {},
   "outputs": [
    {
     "data": {
      "text/plain": "                    id                                                   \\\n                 count         mean          std   min      25%     50%   \ntopic                                                                     \nArts & Culture  1015.0  6220.692611  3508.743175   3.0  3340.50  6246.0   \nBusiness        1085.0  6077.266359  3510.322391  47.0  2942.00  6055.0   \nFashion          936.0  6241.264957  3437.677275  19.0  3467.00  6504.0   \nFood             919.0  6129.760609  3456.862721  17.0  3235.00  6035.0   \nHealth          1013.0  6079.922014  3566.026711   2.0  2870.00  5958.0   \nHome            1020.0  5945.716667  3521.391908   7.0  2964.00  5802.0   \nOpinion         1148.0  6067.351916  3538.256259   8.0  3019.50  6040.0   \nPolitics        1100.0  5984.511818  3591.478142   6.0  2928.25  6047.5   \nSports           998.0  6016.434870  3492.467110   0.0  3027.75  5929.0   \nTechnology       960.0  6014.670833  3561.104339  15.0  2821.25  5994.0   \nTravel           851.0  6227.720329  3554.094424   1.0  3032.00  6474.0   \nWorld Events    1158.0  6232.677893  3521.607424   4.0  3080.75  6276.0   \n\n                                     day                                       \\\n                    75%      max   count        mean         std  min     25%   \ntopic                                                                           \nArts & Culture  9305.00  12201.0  1015.0  367.756650  210.392319  0.0  193.50   \nBusiness        8993.00  12196.0  1085.0  359.129954  210.458756  2.0  170.00   \nFashion         9054.50  12146.0   936.0  368.981838  206.061620  1.0  200.75   \nFood            9093.00  12198.0   919.0  362.258977  207.516470  1.0  188.00   \nHealth          9294.00  12199.0  1013.0  359.343534  213.785739  0.0  167.00   \nHome            9056.00  12193.0  1020.0  351.271569  211.016810  1.0  171.00   \nOpinion         9303.25  12185.0  1148.0  358.594948  211.954270  1.0  173.50   \nPolitics        8980.25  12202.0  1100.0  353.802727  215.112587  1.0  169.00   \nSports          9061.75  12200.0   998.0  355.451904  209.361184  0.0  174.25   \nTechnology      9104.75  12192.0   960.0  355.478125  213.306922  1.0  163.75   \nTravel          9193.50  12145.0   851.0  368.305523  212.978708  0.0  174.50   \nWorld Events    9387.50  12197.0  1158.0  368.445596  211.252654  0.0  178.00   \n\n                                      \n                  50%     75%    max  \ntopic                                 \nArts & Culture  367.0  552.50  729.0  \nBusiness        356.0  535.00  729.0  \nFashion         384.5  538.25  726.0  \nFood            355.0  540.50  729.0  \nHealth          349.0  552.00  729.0  \nHome            340.0  538.50  729.0  \nOpinion         355.5  552.25  729.0  \nPolitics        356.0  534.00  729.0  \nSports          348.5  538.75  729.0  \nTechnology      352.5  541.25  729.0  \nTravel          383.0  545.50  726.0  \nWorld Events    370.0  557.75  729.0  ",
      "text/html": "<div>\n<style scoped>\n    .dataframe tbody tr th:only-of-type {\n        vertical-align: middle;\n    }\n\n    .dataframe tbody tr th {\n        vertical-align: top;\n    }\n\n    .dataframe thead tr th {\n        text-align: left;\n    }\n\n    .dataframe thead tr:last-of-type th {\n        text-align: right;\n    }\n</style>\n<table border=\"1\" class=\"dataframe\">\n  <thead>\n    <tr>\n      <th></th>\n      <th colspan=\"8\" halign=\"left\">id</th>\n      <th colspan=\"8\" halign=\"left\">day</th>\n    </tr>\n    <tr>\n      <th></th>\n      <th>count</th>\n      <th>mean</th>\n      <th>std</th>\n      <th>min</th>\n      <th>25%</th>\n      <th>50%</th>\n      <th>75%</th>\n      <th>max</th>\n      <th>count</th>\n      <th>mean</th>\n      <th>std</th>\n      <th>min</th>\n      <th>25%</th>\n      <th>50%</th>\n      <th>75%</th>\n      <th>max</th>\n    </tr>\n    <tr>\n      <th>topic</th>\n      <th></th>\n      <th></th>\n      <th></th>\n      <th></th>\n      <th></th>\n      <th></th>\n      <th></th>\n      <th></th>\n      <th></th>\n      <th></th>\n      <th></th>\n      <th></th>\n      <th></th>\n      <th></th>\n      <th></th>\n      <th></th>\n    </tr>\n  </thead>\n  <tbody>\n    <tr>\n      <th>Arts &amp; Culture</th>\n      <td>1015.0</td>\n      <td>6220.692611</td>\n      <td>3508.743175</td>\n      <td>3.0</td>\n      <td>3340.50</td>\n      <td>6246.0</td>\n      <td>9305.00</td>\n      <td>12201.0</td>\n      <td>1015.0</td>\n      <td>367.756650</td>\n      <td>210.392319</td>\n      <td>0.0</td>\n      <td>193.50</td>\n      <td>367.0</td>\n      <td>552.50</td>\n      <td>729.0</td>\n    </tr>\n    <tr>\n      <th>Business</th>\n      <td>1085.0</td>\n      <td>6077.266359</td>\n      <td>3510.322391</td>\n      <td>47.0</td>\n      <td>2942.00</td>\n      <td>6055.0</td>\n      <td>8993.00</td>\n      <td>12196.0</td>\n      <td>1085.0</td>\n      <td>359.129954</td>\n      <td>210.458756</td>\n      <td>2.0</td>\n      <td>170.00</td>\n      <td>356.0</td>\n      <td>535.00</td>\n      <td>729.0</td>\n    </tr>\n    <tr>\n      <th>Fashion</th>\n      <td>936.0</td>\n      <td>6241.264957</td>\n      <td>3437.677275</td>\n      <td>19.0</td>\n      <td>3467.00</td>\n      <td>6504.0</td>\n      <td>9054.50</td>\n      <td>12146.0</td>\n      <td>936.0</td>\n      <td>368.981838</td>\n      <td>206.061620</td>\n      <td>1.0</td>\n      <td>200.75</td>\n      <td>384.5</td>\n      <td>538.25</td>\n      <td>726.0</td>\n    </tr>\n    <tr>\n      <th>Food</th>\n      <td>919.0</td>\n      <td>6129.760609</td>\n      <td>3456.862721</td>\n      <td>17.0</td>\n      <td>3235.00</td>\n      <td>6035.0</td>\n      <td>9093.00</td>\n      <td>12198.0</td>\n      <td>919.0</td>\n      <td>362.258977</td>\n      <td>207.516470</td>\n      <td>1.0</td>\n      <td>188.00</td>\n      <td>355.0</td>\n      <td>540.50</td>\n      <td>729.0</td>\n    </tr>\n    <tr>\n      <th>Health</th>\n      <td>1013.0</td>\n      <td>6079.922014</td>\n      <td>3566.026711</td>\n      <td>2.0</td>\n      <td>2870.00</td>\n      <td>5958.0</td>\n      <td>9294.00</td>\n      <td>12199.0</td>\n      <td>1013.0</td>\n      <td>359.343534</td>\n      <td>213.785739</td>\n      <td>0.0</td>\n      <td>167.00</td>\n      <td>349.0</td>\n      <td>552.00</td>\n      <td>729.0</td>\n    </tr>\n    <tr>\n      <th>Home</th>\n      <td>1020.0</td>\n      <td>5945.716667</td>\n      <td>3521.391908</td>\n      <td>7.0</td>\n      <td>2964.00</td>\n      <td>5802.0</td>\n      <td>9056.00</td>\n      <td>12193.0</td>\n      <td>1020.0</td>\n      <td>351.271569</td>\n      <td>211.016810</td>\n      <td>1.0</td>\n      <td>171.00</td>\n      <td>340.0</td>\n      <td>538.50</td>\n      <td>729.0</td>\n    </tr>\n    <tr>\n      <th>Opinion</th>\n      <td>1148.0</td>\n      <td>6067.351916</td>\n      <td>3538.256259</td>\n      <td>8.0</td>\n      <td>3019.50</td>\n      <td>6040.0</td>\n      <td>9303.25</td>\n      <td>12185.0</td>\n      <td>1148.0</td>\n      <td>358.594948</td>\n      <td>211.954270</td>\n      <td>1.0</td>\n      <td>173.50</td>\n      <td>355.5</td>\n      <td>552.25</td>\n      <td>729.0</td>\n    </tr>\n    <tr>\n      <th>Politics</th>\n      <td>1100.0</td>\n      <td>5984.511818</td>\n      <td>3591.478142</td>\n      <td>6.0</td>\n      <td>2928.25</td>\n      <td>6047.5</td>\n      <td>8980.25</td>\n      <td>12202.0</td>\n      <td>1100.0</td>\n      <td>353.802727</td>\n      <td>215.112587</td>\n      <td>1.0</td>\n      <td>169.00</td>\n      <td>356.0</td>\n      <td>534.00</td>\n      <td>729.0</td>\n    </tr>\n    <tr>\n      <th>Sports</th>\n      <td>998.0</td>\n      <td>6016.434870</td>\n      <td>3492.467110</td>\n      <td>0.0</td>\n      <td>3027.75</td>\n      <td>5929.0</td>\n      <td>9061.75</td>\n      <td>12200.0</td>\n      <td>998.0</td>\n      <td>355.451904</td>\n      <td>209.361184</td>\n      <td>0.0</td>\n      <td>174.25</td>\n      <td>348.5</td>\n      <td>538.75</td>\n      <td>729.0</td>\n    </tr>\n    <tr>\n      <th>Technology</th>\n      <td>960.0</td>\n      <td>6014.670833</td>\n      <td>3561.104339</td>\n      <td>15.0</td>\n      <td>2821.25</td>\n      <td>5994.0</td>\n      <td>9104.75</td>\n      <td>12192.0</td>\n      <td>960.0</td>\n      <td>355.478125</td>\n      <td>213.306922</td>\n      <td>1.0</td>\n      <td>163.75</td>\n      <td>352.5</td>\n      <td>541.25</td>\n      <td>729.0</td>\n    </tr>\n    <tr>\n      <th>Travel</th>\n      <td>851.0</td>\n      <td>6227.720329</td>\n      <td>3554.094424</td>\n      <td>1.0</td>\n      <td>3032.00</td>\n      <td>6474.0</td>\n      <td>9193.50</td>\n      <td>12145.0</td>\n      <td>851.0</td>\n      <td>368.305523</td>\n      <td>212.978708</td>\n      <td>0.0</td>\n      <td>174.50</td>\n      <td>383.0</td>\n      <td>545.50</td>\n      <td>726.0</td>\n    </tr>\n    <tr>\n      <th>World Events</th>\n      <td>1158.0</td>\n      <td>6232.677893</td>\n      <td>3521.607424</td>\n      <td>4.0</td>\n      <td>3080.75</td>\n      <td>6276.0</td>\n      <td>9387.50</td>\n      <td>12197.0</td>\n      <td>1158.0</td>\n      <td>368.445596</td>\n      <td>211.252654</td>\n      <td>0.0</td>\n      <td>178.00</td>\n      <td>370.0</td>\n      <td>557.75</td>\n      <td>729.0</td>\n    </tr>\n  </tbody>\n</table>\n</div>"
     },
     "execution_count": 58,
     "metadata": {},
     "output_type": "execute_result"
    }
   ],
   "source": [
    "articles_df.groupby('topic').describe()"
   ]
  },
  {
   "cell_type": "code",
   "execution_count": 65,
   "metadata": {},
   "outputs": [],
   "source": [
    "# Generate users\n",
    "users = []\n",
    "# will depend on how calculations are done\n",
    "# users_tod = ['const day', 'const night', 'morning peak', 'midday peak', 'evening peak'']\n",
    "\n",
    "for user in range(N_USERS):\n",
    "    ip = fake.ipv4()\n",
    "    agent = fake.user_agent()\n",
    "    prefs = dirichlet.rvs(alphas)\n",
    "    freq = norm.rvs(loc=5, scale=5)\n",
    "    first_day = int(uniform.rvs()*N_DAYS)\n",
    "    lifetime = expon.rvs(loc=20, scale=200)\n",
    "\n",
    "    num_favorite = np.ceil(uniform.rvs()*4)\n",
    "    favorites = random.sample(authors_names, int(num_favorite))\n",
    "    users.append({'ip': ip, 'agent': agent, 'prefs': prefs, 'freq': max(freq, 0),\n",
    "                  'first_day': first_day, 'lifetime': lifetime, 'favorites': favorites})"
   ]
  },
  {
   "cell_type": "code",
   "execution_count": 66,
   "outputs": [
    {
     "data": {
      "text/plain": "                  ip                                              agent  \\\n0      209.191.63.10  Mozilla/5.0 (compatible; MSIE 6.0; Windows CE;...   \n1    126.213.197.252  Mozilla/5.0 (iPod; U; CPU iPhone OS 4_2 like M...   \n2       60.57.41.175  Opera/8.86.(Windows NT 10.0; ta-IN) Presto/2.9...   \n3      10.236.20.159  Mozilla/5.0 (Linux; Android 4.2) AppleWebKit/5...   \n4       56.200.32.82  Mozilla/5.0 (iPad; CPU iPad OS 10_3_4 like Mac...   \n..               ...                                                ...   \n995    102.201.13.53  Mozilla/5.0 (compatible; MSIE 7.0; Windows NT ...   \n996     44.94.89.166  Mozilla/5.0 (Android 3.0; Mobile; rv:41.0) Gec...   \n997     126.115.0.21  Mozilla/5.0 (compatible; MSIE 6.0; Windows CE;...   \n998   126.162.173.92  Mozilla/5.0 (compatible; MSIE 6.0; Windows NT ...   \n999    63.41.136.139  Mozilla/5.0 (Windows NT 4.0) AppleWebKit/534.0...   \n\n                                                 prefs      freq  first_day  \\\n0    [[0.11620120198506441, 0.033543403690835624, 0...  9.932736        394   \n1    [[0.16940690812818207, 0.1676874991123693, 0.1...  6.978770        519   \n2    [[0.12732412409790334, 0.15844066780961727, 0....  3.981760        274   \n3    [[0.027263718637641984, 0.12398082128068787, 0...  0.000000        261   \n4    [[0.04652380242319909, 0.05269459557114592, 0....  7.510013        436   \n..                                                 ...       ...        ...   \n995  [[0.05012243117880853, 0.08536504601852563, 0....  0.000000        612   \n996  [[0.23870948159681782, 0.048817144234657855, 0...  0.000000        117   \n997  [[0.053368804756425, 0.06307578231453158, 0.14...  5.643541        359   \n998  [[0.10662590672507669, 0.08031885545944624, 0....  7.296640        278   \n999  [[0.018489325884993336, 0.2278259465993737, 0....  9.257208         66   \n\n       lifetime                                          favorites  \n0    154.977672  [Matthew Taylor, Andrew Mccann, Molly Oneal, D...  \n1    756.732084    [Jordan Holland, Shelby Williams, Roberto Rowe]  \n2     54.153007                                [Danielle Gonzales]  \n3    145.772394  [Joshua Ortega, Sara Manning, Daniel Green, Mo...  \n4    107.400039  [Kristin Morris, Benjamin Robinson, James Swan...  \n..          ...                                                ...  \n995   29.985426                                [Danielle Gonzales]  \n996   57.049679                     [James Swanson, Zachary Smith]  \n997  115.072514                                      [Donald Hall]  \n998  455.416150                                       [Mike Davis]  \n999  244.038891  [Andrew Mccann, Nicholas Moreno, Brian Newman,...  \n\n[1000 rows x 7 columns]",
      "text/html": "<div>\n<style scoped>\n    .dataframe tbody tr th:only-of-type {\n        vertical-align: middle;\n    }\n\n    .dataframe tbody tr th {\n        vertical-align: top;\n    }\n\n    .dataframe thead th {\n        text-align: right;\n    }\n</style>\n<table border=\"1\" class=\"dataframe\">\n  <thead>\n    <tr style=\"text-align: right;\">\n      <th></th>\n      <th>ip</th>\n      <th>agent</th>\n      <th>prefs</th>\n      <th>freq</th>\n      <th>first_day</th>\n      <th>lifetime</th>\n      <th>favorites</th>\n    </tr>\n  </thead>\n  <tbody>\n    <tr>\n      <th>0</th>\n      <td>209.191.63.10</td>\n      <td>Mozilla/5.0 (compatible; MSIE 6.0; Windows CE;...</td>\n      <td>[[0.11620120198506441, 0.033543403690835624, 0...</td>\n      <td>9.932736</td>\n      <td>394</td>\n      <td>154.977672</td>\n      <td>[Matthew Taylor, Andrew Mccann, Molly Oneal, D...</td>\n    </tr>\n    <tr>\n      <th>1</th>\n      <td>126.213.197.252</td>\n      <td>Mozilla/5.0 (iPod; U; CPU iPhone OS 4_2 like M...</td>\n      <td>[[0.16940690812818207, 0.1676874991123693, 0.1...</td>\n      <td>6.978770</td>\n      <td>519</td>\n      <td>756.732084</td>\n      <td>[Jordan Holland, Shelby Williams, Roberto Rowe]</td>\n    </tr>\n    <tr>\n      <th>2</th>\n      <td>60.57.41.175</td>\n      <td>Opera/8.86.(Windows NT 10.0; ta-IN) Presto/2.9...</td>\n      <td>[[0.12732412409790334, 0.15844066780961727, 0....</td>\n      <td>3.981760</td>\n      <td>274</td>\n      <td>54.153007</td>\n      <td>[Danielle Gonzales]</td>\n    </tr>\n    <tr>\n      <th>3</th>\n      <td>10.236.20.159</td>\n      <td>Mozilla/5.0 (Linux; Android 4.2) AppleWebKit/5...</td>\n      <td>[[0.027263718637641984, 0.12398082128068787, 0...</td>\n      <td>0.000000</td>\n      <td>261</td>\n      <td>145.772394</td>\n      <td>[Joshua Ortega, Sara Manning, Daniel Green, Mo...</td>\n    </tr>\n    <tr>\n      <th>4</th>\n      <td>56.200.32.82</td>\n      <td>Mozilla/5.0 (iPad; CPU iPad OS 10_3_4 like Mac...</td>\n      <td>[[0.04652380242319909, 0.05269459557114592, 0....</td>\n      <td>7.510013</td>\n      <td>436</td>\n      <td>107.400039</td>\n      <td>[Kristin Morris, Benjamin Robinson, James Swan...</td>\n    </tr>\n    <tr>\n      <th>...</th>\n      <td>...</td>\n      <td>...</td>\n      <td>...</td>\n      <td>...</td>\n      <td>...</td>\n      <td>...</td>\n      <td>...</td>\n    </tr>\n    <tr>\n      <th>995</th>\n      <td>102.201.13.53</td>\n      <td>Mozilla/5.0 (compatible; MSIE 7.0; Windows NT ...</td>\n      <td>[[0.05012243117880853, 0.08536504601852563, 0....</td>\n      <td>0.000000</td>\n      <td>612</td>\n      <td>29.985426</td>\n      <td>[Danielle Gonzales]</td>\n    </tr>\n    <tr>\n      <th>996</th>\n      <td>44.94.89.166</td>\n      <td>Mozilla/5.0 (Android 3.0; Mobile; rv:41.0) Gec...</td>\n      <td>[[0.23870948159681782, 0.048817144234657855, 0...</td>\n      <td>0.000000</td>\n      <td>117</td>\n      <td>57.049679</td>\n      <td>[James Swanson, Zachary Smith]</td>\n    </tr>\n    <tr>\n      <th>997</th>\n      <td>126.115.0.21</td>\n      <td>Mozilla/5.0 (compatible; MSIE 6.0; Windows CE;...</td>\n      <td>[[0.053368804756425, 0.06307578231453158, 0.14...</td>\n      <td>5.643541</td>\n      <td>359</td>\n      <td>115.072514</td>\n      <td>[Donald Hall]</td>\n    </tr>\n    <tr>\n      <th>998</th>\n      <td>126.162.173.92</td>\n      <td>Mozilla/5.0 (compatible; MSIE 6.0; Windows NT ...</td>\n      <td>[[0.10662590672507669, 0.08031885545944624, 0....</td>\n      <td>7.296640</td>\n      <td>278</td>\n      <td>455.416150</td>\n      <td>[Mike Davis]</td>\n    </tr>\n    <tr>\n      <th>999</th>\n      <td>63.41.136.139</td>\n      <td>Mozilla/5.0 (Windows NT 4.0) AppleWebKit/534.0...</td>\n      <td>[[0.018489325884993336, 0.2278259465993737, 0....</td>\n      <td>9.257208</td>\n      <td>66</td>\n      <td>244.038891</td>\n      <td>[Andrew Mccann, Nicholas Moreno, Brian Newman,...</td>\n    </tr>\n  </tbody>\n</table>\n<p>1000 rows × 7 columns</p>\n</div>"
     },
     "execution_count": 66,
     "metadata": {},
     "output_type": "execute_result"
    }
   ],
   "source": [
    "users_df = pd.DataFrame(users)\n",
    "users_df"
   ],
   "metadata": {
    "collapsed": false,
    "pycharm": {
     "name": "#%%\n"
    }
   }
  },
  {
   "cell_type": "code",
   "execution_count": null,
   "outputs": [],
   "source": [],
   "metadata": {
    "collapsed": false,
    "pycharm": {
     "name": "#%%\n"
    }
   }
  }
 ],
 "metadata": {
  "kernelspec": {
   "display_name": "Python 3",
   "language": "python",
   "name": "python3"
  },
  "language_info": {
   "codemirror_mode": {
    "name": "ipython",
    "version": 3
   },
   "file_extension": ".py",
   "mimetype": "text/x-python",
   "name": "python",
   "nbconvert_exporter": "python",
   "pygments_lexer": "ipython3",
   "version": "3.8.5"
  }
 },
 "nbformat": 4,
 "nbformat_minor": 5
}