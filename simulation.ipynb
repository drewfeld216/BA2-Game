{
 "cells": [
  {
   "cell_type": "code",
   "execution_count": 1,
   "metadata": {},
   "outputs": [],
   "source": [
    "import numpy as np\n",
    "import pandas as pd\n",
    "import random\n",
    "from scipy.stats import dirichlet, expon, uniform, norm\n",
    "from faker import Faker\n",
    "fake = Faker()"
   ]
  },
  {
   "cell_type": "code",
   "execution_count": 2,
   "metadata": {},
   "outputs": [],
   "source": [
    "# Define some global parameters\n",
    "N_DAYS = 365*2\n",
    "N_AUTHORS = 50\n",
    "N_USERS = 1000\n",
    "\n",
    "# Define possible topics and baseline probabilities // right now all made up, but should be based on data eventually\n",
    "topics = ['Opinion', 'Politics', 'World Events', 'Business', 'Technology', 'Arts & Culture', 'Sports', 'Health', 'Home', 'Travel', 'Fashion', 'Food']\n",
    "topics_probs = np.array([[0.1, 0.1, 0.1, 0.1, 0.08, 0.08, 0.08, 0.08, 0.08, 0.07, 0.07, 0.06]])\n",
    "\n",
    "# Generate fake authors and probability vectors\n",
    "authors_names = [fake.name() for i in range(N_AUTHORS)]\n",
    "authors_quality = [uniform.rvs()*10 for i in range(N_AUTHORS)]\n",
    "\n",
    "alphas = np.ones(len(topics)) # Concentration parameters TBD, right now uniform\n",
    "authors_topicsprobs = np.array([dirichlet.rvs(alphas)[0] for auth in authors_names])\n",
    "authors_popularity = dirichlet.rvs(np.ones(N_AUTHORS)*10)[0]"
   ]
  },
  {
   "cell_type": "code",
   "execution_count": 3,
   "outputs": [
    {
     "data": {
      "text/plain": "               id       start    duration   intensity\ncount  812.000000  812.000000  812.000000  812.000000\nmean   405.500000  351.857143    3.935961    0.201609\nstd    234.548502  207.255257    3.093422    0.102752\nmin      0.000000    0.000000    1.000000    0.100036\n25%    202.750000  170.750000    2.000000    0.130018\n50%    405.500000  340.000000    3.000000    0.169464\n75%    608.250000  517.000000    5.000000    0.236209\nmax    811.000000  728.000000   23.000000    0.785040",
      "text/html": "<div>\n<style scoped>\n    .dataframe tbody tr th:only-of-type {\n        vertical-align: middle;\n    }\n\n    .dataframe tbody tr th {\n        vertical-align: top;\n    }\n\n    .dataframe thead th {\n        text-align: right;\n    }\n</style>\n<table border=\"1\" class=\"dataframe\">\n  <thead>\n    <tr style=\"text-align: right;\">\n      <th></th>\n      <th>id</th>\n      <th>start</th>\n      <th>duration</th>\n      <th>intensity</th>\n    </tr>\n  </thead>\n  <tbody>\n    <tr>\n      <th>count</th>\n      <td>812.000000</td>\n      <td>812.000000</td>\n      <td>812.000000</td>\n      <td>812.000000</td>\n    </tr>\n    <tr>\n      <th>mean</th>\n      <td>405.500000</td>\n      <td>351.857143</td>\n      <td>3.935961</td>\n      <td>0.201609</td>\n    </tr>\n    <tr>\n      <th>std</th>\n      <td>234.548502</td>\n      <td>207.255257</td>\n      <td>3.093422</td>\n      <td>0.102752</td>\n    </tr>\n    <tr>\n      <th>min</th>\n      <td>0.000000</td>\n      <td>0.000000</td>\n      <td>1.000000</td>\n      <td>0.100036</td>\n    </tr>\n    <tr>\n      <th>25%</th>\n      <td>202.750000</td>\n      <td>170.750000</td>\n      <td>2.000000</td>\n      <td>0.130018</td>\n    </tr>\n    <tr>\n      <th>50%</th>\n      <td>405.500000</td>\n      <td>340.000000</td>\n      <td>3.000000</td>\n      <td>0.169464</td>\n    </tr>\n    <tr>\n      <th>75%</th>\n      <td>608.250000</td>\n      <td>517.000000</td>\n      <td>5.000000</td>\n      <td>0.236209</td>\n    </tr>\n    <tr>\n      <th>max</th>\n      <td>811.000000</td>\n      <td>728.000000</td>\n      <td>23.000000</td>\n      <td>0.785040</td>\n    </tr>\n  </tbody>\n</table>\n</div>"
     },
     "execution_count": 3,
     "metadata": {},
     "output_type": "execute_result"
    }
   ],
   "source": [
    "events = []\n",
    "articles = []\n",
    "\n",
    "# Iterate over days to generate all articles\n",
    "for day in range(N_DAYS):\n",
    "\n",
    "    # Generate new event with some probability (TBD)\n",
    "    for _ in range(0, int(norm.rvs(loc=1, scale=2))):\n",
    "        event_influence = dirichlet.rvs(alphas) # Concentration parameters TBD\n",
    "        event_duration = expon.rvs(loc=0.01, scale=0.1) # some events should be long-lived\n",
    "        duration_days = np.ceil(event_duration * 30)\n",
    "        # hmm, event duration and intensity is generally correlated\n",
    "        event_intensity = expon.rvs(scale=0.1, loc=0.1)\n",
    "        events.append({'id': len(events), 'start': day, 'influence': event_influence, 'duration': duration_days, 'intensity': event_intensity})\n",
    "\n",
    "    # Loop through events and sum topic probabilities of all active events\n",
    "    day_topicsprobs = topics_probs.copy()\n",
    "    for event in events:\n",
    "        if event['start'] + event['duration'] >= day:\n",
    "            day_topicsprobs += event['intensity']*event['influence']\n",
    "\n",
    "    # Normalize probabilities\n",
    "    day_topicsprobs = day_topicsprobs[0] / day_topicsprobs[0].sum()\n",
    "\n",
    "    # Generate articles for day\n",
    "    n_articles = round(norm.rvs(loc=N_AUTHORS / 3, scale=N_AUTHORS / 10))\n",
    "    for i in range(n_articles):\n",
    "        article_topic = np.random.choice(topics, p=day_topicsprobs)\n",
    "        # Normalize probabilities\n",
    "        author_probs = authors_topicsprobs[:, topics.index(article_topic)]\n",
    "        author_probs = author_probs / author_probs.sum()\n",
    "        article_author = np.random.choice(authors_names, p=author_probs)\n",
    "        articles.append({'id': len(articles), 'day': day, 'topic': article_topic, 'author': article_author})\n",
    "\n",
    "events_df = pd.DataFrame(events)\n",
    "articles_df = pd.DataFrame(articles)\n",
    "\n",
    "events_df.describe()"
   ],
   "metadata": {
    "collapsed": false,
    "pycharm": {
     "name": "#%%\n"
    }
   }
  },
  {
   "cell_type": "code",
   "execution_count": 4,
   "metadata": {},
   "outputs": [
    {
     "data": {
      "text/plain": "                 id           day\ncount  12269.000000  12269.000000\nmean    6134.000000    365.227076\nstd     3541.899561    211.060908\nmin        0.000000      0.000000\n25%     3067.000000    182.000000\n50%     6134.000000    366.000000\n75%     9201.000000    546.000000\nmax    12268.000000    729.000000",
      "text/html": "<div>\n<style scoped>\n    .dataframe tbody tr th:only-of-type {\n        vertical-align: middle;\n    }\n\n    .dataframe tbody tr th {\n        vertical-align: top;\n    }\n\n    .dataframe thead th {\n        text-align: right;\n    }\n</style>\n<table border=\"1\" class=\"dataframe\">\n  <thead>\n    <tr style=\"text-align: right;\">\n      <th></th>\n      <th>id</th>\n      <th>day</th>\n    </tr>\n  </thead>\n  <tbody>\n    <tr>\n      <th>count</th>\n      <td>12269.000000</td>\n      <td>12269.000000</td>\n    </tr>\n    <tr>\n      <th>mean</th>\n      <td>6134.000000</td>\n      <td>365.227076</td>\n    </tr>\n    <tr>\n      <th>std</th>\n      <td>3541.899561</td>\n      <td>211.060908</td>\n    </tr>\n    <tr>\n      <th>min</th>\n      <td>0.000000</td>\n      <td>0.000000</td>\n    </tr>\n    <tr>\n      <th>25%</th>\n      <td>3067.000000</td>\n      <td>182.000000</td>\n    </tr>\n    <tr>\n      <th>50%</th>\n      <td>6134.000000</td>\n      <td>366.000000</td>\n    </tr>\n    <tr>\n      <th>75%</th>\n      <td>9201.000000</td>\n      <td>546.000000</td>\n    </tr>\n    <tr>\n      <th>max</th>\n      <td>12268.000000</td>\n      <td>729.000000</td>\n    </tr>\n  </tbody>\n</table>\n</div>"
     },
     "execution_count": 4,
     "metadata": {},
     "output_type": "execute_result"
    }
   ],
   "source": [
    "articles_df.describe()"
   ]
  },
  {
   "cell_type": "code",
   "execution_count": 5,
   "metadata": {},
   "outputs": [
    {
     "data": {
      "text/plain": "                    id                                                   \\\n                 count         mean          std   min      25%     50%   \ntopic                                                                     \nArts & Culture   983.0  6499.627670  3470.808903  29.0  3533.50  6788.0   \nBusiness        1202.0  6092.211314  3479.471702   8.0  3181.25  5989.0   \nFashion          939.0  5978.133120  3614.679955   6.0  2740.00  5770.0   \nFood             853.0  6153.900352  3521.053384   4.0  3254.00  5947.0   \nHealth          1008.0  6316.484127  3435.044801  24.0  3388.25  6571.5   \nHome            1007.0  5964.553128  3510.350562  28.0  2959.50  5880.0   \nOpinion         1183.0  6110.291631  3589.496256   0.0  3081.50  6050.0   \nPolitics        1129.0  6157.721878  3674.148749   7.0  2918.00  5984.0   \nSports           964.0  6169.717842  3487.510434   3.0  3144.25  6238.5   \nTechnology       935.0  6114.022460  3610.447911   1.0  2907.00  6062.0   \nTravel           937.0  6200.529349  3510.515404  10.0  3084.00  6426.0   \nWorld Events    1129.0  5894.907883  3556.194403  11.0  2789.00  5992.0   \n\n                                     day                                       \\\n                    75%      max   count        mean         std  min     25%   \ntopic                                                                           \nArts & Culture  9444.50  12259.0   983.0  387.045778  206.716624  1.0  209.50   \nBusiness        9112.75  12251.0  1202.0  362.764559  207.391420  0.0  189.00   \nFashion         9287.00  12234.0   939.0  355.972311  215.388050  0.0  164.00   \nFood            9180.00  12235.0   853.0  366.508792  209.748718  0.0  193.00   \nHealth          9139.75  12245.0  1008.0  375.952381  204.757516  0.0  201.75   \nHome            8813.50  12258.0  1007.0  355.103277  209.238716  1.0  176.50   \nOpinion         9279.50  12261.0  1183.0  363.765850  213.920384  0.0  183.00   \nPolitics        9543.00  12254.0  1129.0  366.720106  218.968552  0.0  174.00   \nSports          9148.00  12255.0   964.0  367.330913  207.761869  0.0  186.00   \nTechnology      9318.50  12242.0   935.0  364.055615  215.155322  0.0  173.50   \nTravel          9144.00  12266.0   937.0  369.160085  209.079239  0.0  183.00   \nWorld Events    8858.00  12268.0  1129.0  350.982285  211.989712  0.0  167.00   \n\n                                      \n                  50%     75%    max  \ntopic                                 \nArts & Culture  407.0  562.00  728.0  \nBusiness        356.0  540.75  728.0  \nFashion         344.0  553.00  726.0  \nFood            354.0  545.00  726.0  \nHealth          392.0  542.25  727.0  \nHome            351.0  521.00  728.0  \nOpinion         361.0  552.50  729.0  \nPolitics        356.0  567.00  728.0  \nSports          371.0  542.25  728.0  \nTechnology      361.0  555.00  727.0  \nTravel          383.0  542.00  729.0  \nWorld Events    356.0  524.00  729.0  ",
      "text/html": "<div>\n<style scoped>\n    .dataframe tbody tr th:only-of-type {\n        vertical-align: middle;\n    }\n\n    .dataframe tbody tr th {\n        vertical-align: top;\n    }\n\n    .dataframe thead tr th {\n        text-align: left;\n    }\n\n    .dataframe thead tr:last-of-type th {\n        text-align: right;\n    }\n</style>\n<table border=\"1\" class=\"dataframe\">\n  <thead>\n    <tr>\n      <th></th>\n      <th colspan=\"8\" halign=\"left\">id</th>\n      <th colspan=\"8\" halign=\"left\">day</th>\n    </tr>\n    <tr>\n      <th></th>\n      <th>count</th>\n      <th>mean</th>\n      <th>std</th>\n      <th>min</th>\n      <th>25%</th>\n      <th>50%</th>\n      <th>75%</th>\n      <th>max</th>\n      <th>count</th>\n      <th>mean</th>\n      <th>std</th>\n      <th>min</th>\n      <th>25%</th>\n      <th>50%</th>\n      <th>75%</th>\n      <th>max</th>\n    </tr>\n    <tr>\n      <th>topic</th>\n      <th></th>\n      <th></th>\n      <th></th>\n      <th></th>\n      <th></th>\n      <th></th>\n      <th></th>\n      <th></th>\n      <th></th>\n      <th></th>\n      <th></th>\n      <th></th>\n      <th></th>\n      <th></th>\n      <th></th>\n      <th></th>\n    </tr>\n  </thead>\n  <tbody>\n    <tr>\n      <th>Arts &amp; Culture</th>\n      <td>983.0</td>\n      <td>6499.627670</td>\n      <td>3470.808903</td>\n      <td>29.0</td>\n      <td>3533.50</td>\n      <td>6788.0</td>\n      <td>9444.50</td>\n      <td>12259.0</td>\n      <td>983.0</td>\n      <td>387.045778</td>\n      <td>206.716624</td>\n      <td>1.0</td>\n      <td>209.50</td>\n      <td>407.0</td>\n      <td>562.00</td>\n      <td>728.0</td>\n    </tr>\n    <tr>\n      <th>Business</th>\n      <td>1202.0</td>\n      <td>6092.211314</td>\n      <td>3479.471702</td>\n      <td>8.0</td>\n      <td>3181.25</td>\n      <td>5989.0</td>\n      <td>9112.75</td>\n      <td>12251.0</td>\n      <td>1202.0</td>\n      <td>362.764559</td>\n      <td>207.391420</td>\n      <td>0.0</td>\n      <td>189.00</td>\n      <td>356.0</td>\n      <td>540.75</td>\n      <td>728.0</td>\n    </tr>\n    <tr>\n      <th>Fashion</th>\n      <td>939.0</td>\n      <td>5978.133120</td>\n      <td>3614.679955</td>\n      <td>6.0</td>\n      <td>2740.00</td>\n      <td>5770.0</td>\n      <td>9287.00</td>\n      <td>12234.0</td>\n      <td>939.0</td>\n      <td>355.972311</td>\n      <td>215.388050</td>\n      <td>0.0</td>\n      <td>164.00</td>\n      <td>344.0</td>\n      <td>553.00</td>\n      <td>726.0</td>\n    </tr>\n    <tr>\n      <th>Food</th>\n      <td>853.0</td>\n      <td>6153.900352</td>\n      <td>3521.053384</td>\n      <td>4.0</td>\n      <td>3254.00</td>\n      <td>5947.0</td>\n      <td>9180.00</td>\n      <td>12235.0</td>\n      <td>853.0</td>\n      <td>366.508792</td>\n      <td>209.748718</td>\n      <td>0.0</td>\n      <td>193.00</td>\n      <td>354.0</td>\n      <td>545.00</td>\n      <td>726.0</td>\n    </tr>\n    <tr>\n      <th>Health</th>\n      <td>1008.0</td>\n      <td>6316.484127</td>\n      <td>3435.044801</td>\n      <td>24.0</td>\n      <td>3388.25</td>\n      <td>6571.5</td>\n      <td>9139.75</td>\n      <td>12245.0</td>\n      <td>1008.0</td>\n      <td>375.952381</td>\n      <td>204.757516</td>\n      <td>0.0</td>\n      <td>201.75</td>\n      <td>392.0</td>\n      <td>542.25</td>\n      <td>727.0</td>\n    </tr>\n    <tr>\n      <th>Home</th>\n      <td>1007.0</td>\n      <td>5964.553128</td>\n      <td>3510.350562</td>\n      <td>28.0</td>\n      <td>2959.50</td>\n      <td>5880.0</td>\n      <td>8813.50</td>\n      <td>12258.0</td>\n      <td>1007.0</td>\n      <td>355.103277</td>\n      <td>209.238716</td>\n      <td>1.0</td>\n      <td>176.50</td>\n      <td>351.0</td>\n      <td>521.00</td>\n      <td>728.0</td>\n    </tr>\n    <tr>\n      <th>Opinion</th>\n      <td>1183.0</td>\n      <td>6110.291631</td>\n      <td>3589.496256</td>\n      <td>0.0</td>\n      <td>3081.50</td>\n      <td>6050.0</td>\n      <td>9279.50</td>\n      <td>12261.0</td>\n      <td>1183.0</td>\n      <td>363.765850</td>\n      <td>213.920384</td>\n      <td>0.0</td>\n      <td>183.00</td>\n      <td>361.0</td>\n      <td>552.50</td>\n      <td>729.0</td>\n    </tr>\n    <tr>\n      <th>Politics</th>\n      <td>1129.0</td>\n      <td>6157.721878</td>\n      <td>3674.148749</td>\n      <td>7.0</td>\n      <td>2918.00</td>\n      <td>5984.0</td>\n      <td>9543.00</td>\n      <td>12254.0</td>\n      <td>1129.0</td>\n      <td>366.720106</td>\n      <td>218.968552</td>\n      <td>0.0</td>\n      <td>174.00</td>\n      <td>356.0</td>\n      <td>567.00</td>\n      <td>728.0</td>\n    </tr>\n    <tr>\n      <th>Sports</th>\n      <td>964.0</td>\n      <td>6169.717842</td>\n      <td>3487.510434</td>\n      <td>3.0</td>\n      <td>3144.25</td>\n      <td>6238.5</td>\n      <td>9148.00</td>\n      <td>12255.0</td>\n      <td>964.0</td>\n      <td>367.330913</td>\n      <td>207.761869</td>\n      <td>0.0</td>\n      <td>186.00</td>\n      <td>371.0</td>\n      <td>542.25</td>\n      <td>728.0</td>\n    </tr>\n    <tr>\n      <th>Technology</th>\n      <td>935.0</td>\n      <td>6114.022460</td>\n      <td>3610.447911</td>\n      <td>1.0</td>\n      <td>2907.00</td>\n      <td>6062.0</td>\n      <td>9318.50</td>\n      <td>12242.0</td>\n      <td>935.0</td>\n      <td>364.055615</td>\n      <td>215.155322</td>\n      <td>0.0</td>\n      <td>173.50</td>\n      <td>361.0</td>\n      <td>555.00</td>\n      <td>727.0</td>\n    </tr>\n    <tr>\n      <th>Travel</th>\n      <td>937.0</td>\n      <td>6200.529349</td>\n      <td>3510.515404</td>\n      <td>10.0</td>\n      <td>3084.00</td>\n      <td>6426.0</td>\n      <td>9144.00</td>\n      <td>12266.0</td>\n      <td>937.0</td>\n      <td>369.160085</td>\n      <td>209.079239</td>\n      <td>0.0</td>\n      <td>183.00</td>\n      <td>383.0</td>\n      <td>542.00</td>\n      <td>729.0</td>\n    </tr>\n    <tr>\n      <th>World Events</th>\n      <td>1129.0</td>\n      <td>5894.907883</td>\n      <td>3556.194403</td>\n      <td>11.0</td>\n      <td>2789.00</td>\n      <td>5992.0</td>\n      <td>8858.00</td>\n      <td>12268.0</td>\n      <td>1129.0</td>\n      <td>350.982285</td>\n      <td>211.989712</td>\n      <td>0.0</td>\n      <td>167.00</td>\n      <td>356.0</td>\n      <td>524.00</td>\n      <td>729.0</td>\n    </tr>\n  </tbody>\n</table>\n</div>"
     },
     "execution_count": 5,
     "metadata": {},
     "output_type": "execute_result"
    }
   ],
   "source": [
    "articles_df.groupby('topic').describe()"
   ]
  },
  {
   "cell_type": "code",
   "execution_count": 12,
   "metadata": {},
   "outputs": [],
   "source": [
    "# Generate users\n",
    "users = []\n",
    "# will depend on how calculations are done\n",
    "\n",
    "for user in range(N_USERS):\n",
    "    ip = fake.ipv4() # not sure if these first two are necessary\n",
    "    agent = fake.user_agent()\n",
    "    prefs = dirichlet.rvs(alphas)\n",
    "    freq = int(norm.rvs(loc=5, scale=5)) # should be bimodal, will investigate\n",
    "    first_day = int(uniform.rvs()*N_DAYS)\n",
    "    lifetime = int(expon.rvs(loc=20, scale=200))\n",
    "    ad_sensitivity = norm.rvs(loc=2, scale=0.2)\n",
    "\n",
    "    num_favorite = np.ceil(uniform.rvs()*4)\n",
    "    favorites = random.sample(authors_names, int(num_favorite))\n",
    "    users.append({'ip': ip, 'agent': agent, 'prefs': prefs, 'freq': max(freq, 0),\n",
    "                  'first_day': first_day, 'lifetime': lifetime, 'ad_sensitivity': ad_sensitivity,\n",
    "                  'favorites': favorites})"
   ]
  },
  {
   "cell_type": "code",
   "execution_count": 13,
   "outputs": [
    {
     "data": {
      "text/plain": "                  ip                                              agent  \\\n0      56.150.117.68  Opera/8.89.(Windows NT 5.01; mi-NZ) Presto/2.9...   \n1    200.138.183.159  Mozilla/5.0 (iPad; CPU iPad OS 5_1_1 like Mac ...   \n2    191.141.230.178  Mozilla/5.0 (iPad; CPU iPad OS 9_3_5 like Mac ...   \n3     161.193.76.105  Mozilla/5.0 (iPod; U; CPU iPhone OS 3_3 like M...   \n4       213.25.71.98  Mozilla/5.0 (iPad; CPU iPad OS 14_2_1 like Mac...   \n..               ...                                                ...   \n995    159.87.121.16  Opera/9.41.(X11; Linux x86_64; aa-DJ) Presto/2...   \n996  195.143.140.125  Mozilla/5.0 (X11; Linux i686; rv:1.9.6.20) Gec...   \n997   123.68.126.166  Opera/9.23.(X11; Linux i686; it-CH) Presto/2.9...   \n998  158.195.169.220  Mozilla/5.0 (Windows CE; ht-HT; rv:1.9.1.20) G...   \n999   110.162.11.205  Mozilla/5.0 (iPod; U; CPU iPhone OS 4_1 like M...   \n\n                                                 prefs  freq  first_day  \\\n0    [[0.007360383115440668, 0.24262506824112237, 0...     9        406   \n1    [[0.0003219440359596212, 0.07805357963153772, ...    10        553   \n2    [[0.3451409965398571, 0.07128343202032611, 0.0...     0        581   \n3    [[0.044746905311257336, 0.1292045243856901, 0....     0        356   \n4    [[0.02838256503038247, 0.029219214813447275, 0...     6        260   \n..                                                 ...   ...        ...   \n995  [[0.06443744160040796, 0.1409057062783758, 0.2...     2        286   \n996  [[0.10570553390363821, 0.01903586253419786, 0....     7        692   \n997  [[0.14751608219080675, 0.16493720139565118, 0....     6        297   \n998  [[0.05847297968383385, 0.22396140008110005, 0....     2        462   \n999  [[0.25335318942639856, 0.032656898541959994, 0...     8        520   \n\n     lifetime  ad_sensitivity  \\\n0         336        1.890214   \n1         114        1.952494   \n2          23        2.080753   \n3         622        2.077663   \n4         104        2.009152   \n..        ...             ...   \n995       198        1.841452   \n996       303        2.087367   \n997       214        2.190526   \n998       301        1.827772   \n999       247        2.182829   \n\n                                             favorites  \n0    [Amber Conrad, Anna Paul, Summer Cooper, Jeffr...  \n1                       [Timothy Barber, John Leonard]  \n2            [Stephen Martin, Angela Quinn, Anna Paul]  \n3                       [Steven Wilson, Michael Marks]  \n4    [James Carter, Daniel Williams, Marcus Gilbert...  \n..                                                 ...  \n995                     [Donald Roberts, Cody Rowland]  \n996                    [Amber Conrad, Benjamin Becker]  \n997                                   [Sarah Marshall]  \n998  [Katherine Murphy, Summer Cooper, Cynthia Step...  \n999                     [Amber Conrad, Marcus Gilbert]  \n\n[1000 rows x 8 columns]",
      "text/html": "<div>\n<style scoped>\n    .dataframe tbody tr th:only-of-type {\n        vertical-align: middle;\n    }\n\n    .dataframe tbody tr th {\n        vertical-align: top;\n    }\n\n    .dataframe thead th {\n        text-align: right;\n    }\n</style>\n<table border=\"1\" class=\"dataframe\">\n  <thead>\n    <tr style=\"text-align: right;\">\n      <th></th>\n      <th>ip</th>\n      <th>agent</th>\n      <th>prefs</th>\n      <th>freq</th>\n      <th>first_day</th>\n      <th>lifetime</th>\n      <th>ad_sensitivity</th>\n      <th>favorites</th>\n    </tr>\n  </thead>\n  <tbody>\n    <tr>\n      <th>0</th>\n      <td>56.150.117.68</td>\n      <td>Opera/8.89.(Windows NT 5.01; mi-NZ) Presto/2.9...</td>\n      <td>[[0.007360383115440668, 0.24262506824112237, 0...</td>\n      <td>9</td>\n      <td>406</td>\n      <td>336</td>\n      <td>1.890214</td>\n      <td>[Amber Conrad, Anna Paul, Summer Cooper, Jeffr...</td>\n    </tr>\n    <tr>\n      <th>1</th>\n      <td>200.138.183.159</td>\n      <td>Mozilla/5.0 (iPad; CPU iPad OS 5_1_1 like Mac ...</td>\n      <td>[[0.0003219440359596212, 0.07805357963153772, ...</td>\n      <td>10</td>\n      <td>553</td>\n      <td>114</td>\n      <td>1.952494</td>\n      <td>[Timothy Barber, John Leonard]</td>\n    </tr>\n    <tr>\n      <th>2</th>\n      <td>191.141.230.178</td>\n      <td>Mozilla/5.0 (iPad; CPU iPad OS 9_3_5 like Mac ...</td>\n      <td>[[0.3451409965398571, 0.07128343202032611, 0.0...</td>\n      <td>0</td>\n      <td>581</td>\n      <td>23</td>\n      <td>2.080753</td>\n      <td>[Stephen Martin, Angela Quinn, Anna Paul]</td>\n    </tr>\n    <tr>\n      <th>3</th>\n      <td>161.193.76.105</td>\n      <td>Mozilla/5.0 (iPod; U; CPU iPhone OS 3_3 like M...</td>\n      <td>[[0.044746905311257336, 0.1292045243856901, 0....</td>\n      <td>0</td>\n      <td>356</td>\n      <td>622</td>\n      <td>2.077663</td>\n      <td>[Steven Wilson, Michael Marks]</td>\n    </tr>\n    <tr>\n      <th>4</th>\n      <td>213.25.71.98</td>\n      <td>Mozilla/5.0 (iPad; CPU iPad OS 14_2_1 like Mac...</td>\n      <td>[[0.02838256503038247, 0.029219214813447275, 0...</td>\n      <td>6</td>\n      <td>260</td>\n      <td>104</td>\n      <td>2.009152</td>\n      <td>[James Carter, Daniel Williams, Marcus Gilbert...</td>\n    </tr>\n    <tr>\n      <th>...</th>\n      <td>...</td>\n      <td>...</td>\n      <td>...</td>\n      <td>...</td>\n      <td>...</td>\n      <td>...</td>\n      <td>...</td>\n      <td>...</td>\n    </tr>\n    <tr>\n      <th>995</th>\n      <td>159.87.121.16</td>\n      <td>Opera/9.41.(X11; Linux x86_64; aa-DJ) Presto/2...</td>\n      <td>[[0.06443744160040796, 0.1409057062783758, 0.2...</td>\n      <td>2</td>\n      <td>286</td>\n      <td>198</td>\n      <td>1.841452</td>\n      <td>[Donald Roberts, Cody Rowland]</td>\n    </tr>\n    <tr>\n      <th>996</th>\n      <td>195.143.140.125</td>\n      <td>Mozilla/5.0 (X11; Linux i686; rv:1.9.6.20) Gec...</td>\n      <td>[[0.10570553390363821, 0.01903586253419786, 0....</td>\n      <td>7</td>\n      <td>692</td>\n      <td>303</td>\n      <td>2.087367</td>\n      <td>[Amber Conrad, Benjamin Becker]</td>\n    </tr>\n    <tr>\n      <th>997</th>\n      <td>123.68.126.166</td>\n      <td>Opera/9.23.(X11; Linux i686; it-CH) Presto/2.9...</td>\n      <td>[[0.14751608219080675, 0.16493720139565118, 0....</td>\n      <td>6</td>\n      <td>297</td>\n      <td>214</td>\n      <td>2.190526</td>\n      <td>[Sarah Marshall]</td>\n    </tr>\n    <tr>\n      <th>998</th>\n      <td>158.195.169.220</td>\n      <td>Mozilla/5.0 (Windows CE; ht-HT; rv:1.9.1.20) G...</td>\n      <td>[[0.05847297968383385, 0.22396140008110005, 0....</td>\n      <td>2</td>\n      <td>462</td>\n      <td>301</td>\n      <td>1.827772</td>\n      <td>[Katherine Murphy, Summer Cooper, Cynthia Step...</td>\n    </tr>\n    <tr>\n      <th>999</th>\n      <td>110.162.11.205</td>\n      <td>Mozilla/5.0 (iPod; U; CPU iPhone OS 4_1 like M...</td>\n      <td>[[0.25335318942639856, 0.032656898541959994, 0...</td>\n      <td>8</td>\n      <td>520</td>\n      <td>247</td>\n      <td>2.182829</td>\n      <td>[Amber Conrad, Marcus Gilbert]</td>\n    </tr>\n  </tbody>\n</table>\n<p>1000 rows × 8 columns</p>\n</div>"
     },
     "execution_count": 13,
     "metadata": {},
     "output_type": "execute_result"
    }
   ],
   "source": [
    "users_df = pd.DataFrame(users)\n",
    "users_df"
   ],
   "metadata": {
    "collapsed": false,
    "pycharm": {
     "name": "#%%\n"
    }
   }
  },
  {
   "cell_type": "code",
   "execution_count": null,
   "outputs": [],
   "source": [],
   "metadata": {
    "collapsed": false,
    "pycharm": {
     "name": "#%%\n"
    }
   }
  }
 ],
 "metadata": {
  "kernelspec": {
   "display_name": "Python 3",
   "language": "python",
   "name": "python3"
  },
  "language_info": {
   "codemirror_mode": {
    "name": "ipython",
    "version": 3
   },
   "file_extension": ".py",
   "mimetype": "text/x-python",
   "name": "python",
   "nbconvert_exporter": "python",
   "pygments_lexer": "ipython3",
   "version": "3.8.5"
  }
 },
 "nbformat": 4,
 "nbformat_minor": 5
}