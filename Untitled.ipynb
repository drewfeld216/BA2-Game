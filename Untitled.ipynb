{
 "cells": [
  {
   "cell_type": "code",
   "execution_count": 1,
   "id": "18b25b7e",
   "metadata": {},
   "outputs": [],
   "source": [
    "import models as m"
   ]
  },
  {
   "cell_type": "code",
   "execution_count": 10,
   "id": "d54026cc",
   "metadata": {},
   "outputs": [],
   "source": [
    "m.create_db()"
   ]
  },
  {
   "cell_type": "code",
   "execution_count": 11,
   "id": "c481e023",
   "metadata": {},
   "outputs": [],
   "source": [
    "db = m.Session()"
   ]
  },
  {
   "cell_type": "code",
   "execution_count": 12,
   "id": "381f25d7",
   "metadata": {},
   "outputs": [],
   "source": [
    "game = m.Game(name='Test game', seed=123)"
   ]
  },
  {
   "cell_type": "code",
   "execution_count": 13,
   "id": "457dfc60",
   "metadata": {},
   "outputs": [],
   "source": [
    "db.add(game)"
   ]
  },
  {
   "cell_type": "code",
   "execution_count": 16,
   "id": "dee0044b",
   "metadata": {},
   "outputs": [],
   "source": [
    "game.teams.append(m.Team(name='Team1', game=game))"
   ]
  },
  {
   "cell_type": "code",
   "execution_count": 20,
   "id": "8a391daa",
   "metadata": {},
   "outputs": [
    {
     "data": {
      "text/plain": [
       "0.28613933495037946"
      ]
     },
     "execution_count": 20,
     "metadata": {},
     "output_type": "execute_result"
    }
   ],
   "source": [
    "game.generate_rv('uniform')"
   ]
  },
  {
   "cell_type": "code",
   "execution_count": 21,
   "id": "5d921995",
   "metadata": {},
   "outputs": [
    {
     "data": {
      "text/plain": [
       "0.28613933495037946"
      ]
     },
     "execution_count": 21,
     "metadata": {},
     "output_type": "execute_result"
    }
   ],
   "source": [
    "game.teams[0].generate_rv('uniform')"
   ]
  },
  {
   "cell_type": "code",
   "execution_count": 6,
   "id": "bf5b872f",
   "metadata": {},
   "outputs": [],
   "source": [
    "db.add(m.Team(name='Team1', game=game))\n",
    "db.add(m.Team(name='Team2', game=game))"
   ]
  },
  {
   "cell_type": "code",
   "execution_count": 7,
   "id": "a0f28309",
   "metadata": {},
   "outputs": [
    {
     "data": {
      "text/plain": [
       "[<models.Team at 0x237805ce100>, <models.Team at 0x237805ce0a0>]"
      ]
     },
     "execution_count": 7,
     "metadata": {},
     "output_type": "execute_result"
    }
   ],
   "source": [
    "game.teams"
   ]
  },
  {
   "cell_type": "code",
   "execution_count": 8,
   "id": "ca87f02a",
   "metadata": {},
   "outputs": [],
   "source": [
    "db.commit()"
   ]
  },
  {
   "cell_type": "code",
   "execution_count": 9,
   "id": "5a748ffc",
   "metadata": {},
   "outputs": [],
   "source": [
    "db.close()"
   ]
  }
 ],
 "metadata": {
  "kernelspec": {
   "display_name": "Python 3",
   "language": "python",
   "name": "python3"
  },
  "language_info": {
   "codemirror_mode": {
    "name": "ipython",
    "version": 3
   },
   "file_extension": ".py",
   "mimetype": "text/x-python",
   "name": "python",
   "nbconvert_exporter": "python",
   "pygments_lexer": "ipython3",
   "version": "3.8.8"
  }
 },
 "nbformat": 4,
 "nbformat_minor": 5
}
