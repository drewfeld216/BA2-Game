{
 "cells": [
  {
   "cell_type": "code",
   "execution_count": null,
   "id": "abb3887b",
   "metadata": {},
   "outputs": [],
   "source": []
  },
  {
   "cell_type": "code",
   "execution_count": 21,
   "id": "126d82e2",
   "metadata": {},
   "outputs": [],
   "source": [
    "import pandas as pd"
   ]
  },
  {
   "cell_type": "code",
   "execution_count": null,
   "id": "faf6d645",
   "metadata": {},
   "outputs": [],
   "source": []
  },
  {
   "cell_type": "code",
   "execution_count": 78,
   "id": "24ea65f7",
   "metadata": {},
   "outputs": [],
   "source": [
    "dist = pd.read_csv('Book1.csv')\n",
    "\n",
    "cols = list(dist.columns)\n",
    "cols[0] = 'age'\n",
    "cols[1] = '$0 to $5,000'\n",
    "#cols[-1] = '200000 to 300000'\n",
    "dist.columns = cols\n",
    "dist.columns = dist.columns.str.replace(',','').str.replace(' ', '').str.replace('$', '', regex=False).str.replace('to', ' to ').str.replace('andover', ' and over')\n",
    "\n",
    "dist = dist.set_index('age')\n",
    "dist.index = ( dist.index.str.replace('.', '', regex=False).str.replace('years', '').str\n",
    "                     .replace(' ', '').str.replace('to', ' to ').str.replace('andover', ' and over') )\n",
    "\n",
    "cats = []\n",
    "freqs = []\n",
    "def r_int(s):\n",
    "    try:\n",
    "        return int(s)\n",
    "    except:\n",
    "        return int(s.replace(',',''))\n",
    "    \n",
    "for age in dist.index:\n",
    "    for income in dist.columns:\n",
    "        cats.append({'age':age, 'income':income})\n",
    "        freqs.append(r_int(dist.loc[age, income]))"
   ]
  },
  {
   "cell_type": "code",
   "execution_count": 79,
   "id": "b005bef2",
   "metadata": {},
   "outputs": [
    {
     "data": {
      "text/plain": [
       "\"[{'age': '15 to 24', 'income': '0 to 5000'}, {'age': '15 to 24', 'income': '5000 to 9999'}, {'age': '15 to 24', 'income': '10000 to 14999'}, {'age': '15 to 24', 'income': '15000 to 19999'}, {'age': '15 to 24', 'income': '20000 to 24999'}, {'age': '15 to 24', 'income': '25000 to 29999'}, {'age': '15 to 24', 'income': '30000 to 34999'}, {'age': '15 to 24', 'income': '35000 to 39999'}, {'age': '15 to 24', 'income': '40000 to 44999'}, {'age': '15 to 24', 'income': '45000 to 49999'}, {'age': '15 to 24', 'income': '50000 to 54999'}, {'age': '15 to 24', 'income': '55000 to 59999'}, {'age': '15 to 24', 'income': '60000 to 64999'}, {'age': '15 to 24', 'income': '65000 to 69999'}, {'age': '15 to 24', 'income': '70000 to 74999'}, {'age': '15 to 24', 'income': '75000 to 79999'}, {'age': '15 to 24', 'income': '80000 to 84999'}, {'age': '15 to 24', 'income': '85000 to 89999'}, {'age': '15 to 24', 'income': '90000 to 94999'}, {'age': '15 to 24', 'income': '95000 to 99999'}, {'age': '15 to 24', 'income': '100000 to 104999'}, {'age': '15 to 24', 'income': '105000 to 109999'}, {'age': '15 to 24', 'income': '110000 to 114999'}, {'age': '15 to 24', 'income': '115000 to 119999'}, {'age': '15 to 24', 'income': '120000 to 124999'}, {'age': '15 to 24', 'income': '125000 to 129999'}, {'age': '15 to 24', 'income': '130000 to 134999'}, {'age': '15 to 24', 'income': '135000 to 139999'}, {'age': '15 to 24', 'income': '140000 to 144999'}, {'age': '15 to 24', 'income': '145000 to 149999'}, {'age': '15 to 24', 'income': '150000 to 154999'}, {'age': '15 to 24', 'income': '155000 to 159999'}, {'age': '15 to 24', 'income': '160000 to 164999'}, {'age': '15 to 24', 'income': '165000 to 169999'}, {'age': '15 to 24', 'income': '170000 to 174999'}, {'age': '15 to 24', 'income': '175000 to 179999'}, {'age': '15 to 24', 'income': '180000 to 184999'}, {'age': '15 to 24', 'income': '185000 to 189999'}, {'age': '15 to 24', 'income': '190000 to 194999'}, {'age': '15 to 24', 'income': '195000 to 199999'}, {'age': '15 to 24', 'income': '200000 and over'}, {'age': '25 to 34', 'income': '0 to 5000'}, {'age': '25 to 34', 'income': '5000 to 9999'}, {'age': '25 to 34', 'income': '10000 to 14999'}, {'age': '25 to 34', 'income': '15000 to 19999'}, {'age': '25 to 34', 'income': '20000 to 24999'}, {'age': '25 to 34', 'income': '25000 to 29999'}, {'age': '25 to 34', 'income': '30000 to 34999'}, {'age': '25 to 34', 'income': '35000 to 39999'}, {'age': '25 to 34', 'income': '40000 to 44999'}, {'age': '25 to 34', 'income': '45000 to 49999'}, {'age': '25 to 34', 'income': '50000 to 54999'}, {'age': '25 to 34', 'income': '55000 to 59999'}, {'age': '25 to 34', 'income': '60000 to 64999'}, {'age': '25 to 34', 'income': '65000 to 69999'}, {'age': '25 to 34', 'income': '70000 to 74999'}, {'age': '25 to 34', 'income': '75000 to 79999'}, {'age': '25 to 34', 'income': '80000 to 84999'}, {'age': '25 to 34', 'income': '85000 to 89999'}, {'age': '25 to 34', 'income': '90000 to 94999'}, {'age': '25 to 34', 'income': '95000 to 99999'}, {'age': '25 to 34', 'income': '100000 to 104999'}, {'age': '25 to 34', 'income': '105000 to 109999'}, {'age': '25 to 34', 'income': '110000 to 114999'}, {'age': '25 to 34', 'income': '115000 to 119999'}, {'age': '25 to 34', 'income': '120000 to 124999'}, {'age': '25 to 34', 'income': '125000 to 129999'}, {'age': '25 to 34', 'income': '130000 to 134999'}, {'age': '25 to 34', 'income': '135000 to 139999'}, {'age': '25 to 34', 'income': '140000 to 144999'}, {'age': '25 to 34', 'income': '145000 to 149999'}, {'age': '25 to 34', 'income': '150000 to 154999'}, {'age': '25 to 34', 'income': '155000 to 159999'}, {'age': '25 to 34', 'income': '160000 to 164999'}, {'age': '25 to 34', 'income': '165000 to 169999'}, {'age': '25 to 34', 'income': '170000 to 174999'}, {'age': '25 to 34', 'income': '175000 to 179999'}, {'age': '25 to 34', 'income': '180000 to 184999'}, {'age': '25 to 34', 'income': '185000 to 189999'}, {'age': '25 to 34', 'income': '190000 to 194999'}, {'age': '25 to 34', 'income': '195000 to 199999'}, {'age': '25 to 34', 'income': '200000 and over'}, {'age': '35 to 44', 'income': '0 to 5000'}, {'age': '35 to 44', 'income': '5000 to 9999'}, {'age': '35 to 44', 'income': '10000 to 14999'}, {'age': '35 to 44', 'income': '15000 to 19999'}, {'age': '35 to 44', 'income': '20000 to 24999'}, {'age': '35 to 44', 'income': '25000 to 29999'}, {'age': '35 to 44', 'income': '30000 to 34999'}, {'age': '35 to 44', 'income': '35000 to 39999'}, {'age': '35 to 44', 'income': '40000 to 44999'}, {'age': '35 to 44', 'income': '45000 to 49999'}, {'age': '35 to 44', 'income': '50000 to 54999'}, {'age': '35 to 44', 'income': '55000 to 59999'}, {'age': '35 to 44', 'income': '60000 to 64999'}, {'age': '35 to 44', 'income': '65000 to 69999'}, {'age': '35 to 44', 'income': '70000 to 74999'}, {'age': '35 to 44', 'income': '75000 to 79999'}, {'age': '35 to 44', 'income': '80000 to 84999'}, {'age': '35 to 44', 'income': '85000 to 89999'}, {'age': '35 to 44', 'income': '90000 to 94999'}, {'age': '35 to 44', 'income': '95000 to 99999'}, {'age': '35 to 44', 'income': '100000 to 104999'}, {'age': '35 to 44', 'income': '105000 to 109999'}, {'age': '35 to 44', 'income': '110000 to 114999'}, {'age': '35 to 44', 'income': '115000 to 119999'}, {'age': '35 to 44', 'income': '120000 to 124999'}, {'age': '35 to 44', 'income': '125000 to 129999'}, {'age': '35 to 44', 'income': '130000 to 134999'}, {'age': '35 to 44', 'income': '135000 to 139999'}, {'age': '35 to 44', 'income': '140000 to 144999'}, {'age': '35 to 44', 'income': '145000 to 149999'}, {'age': '35 to 44', 'income': '150000 to 154999'}, {'age': '35 to 44', 'income': '155000 to 159999'}, {'age': '35 to 44', 'income': '160000 to 164999'}, {'age': '35 to 44', 'income': '165000 to 169999'}, {'age': '35 to 44', 'income': '170000 to 174999'}, {'age': '35 to 44', 'income': '175000 to 179999'}, {'age': '35 to 44', 'income': '180000 to 184999'}, {'age': '35 to 44', 'income': '185000 to 189999'}, {'age': '35 to 44', 'income': '190000 to 194999'}, {'age': '35 to 44', 'income': '195000 to 199999'}, {'age': '35 to 44', 'income': '200000 and over'}, {'age': '45 to 54', 'income': '0 to 5000'}, {'age': '45 to 54', 'income': '5000 to 9999'}, {'age': '45 to 54', 'income': '10000 to 14999'}, {'age': '45 to 54', 'income': '15000 to 19999'}, {'age': '45 to 54', 'income': '20000 to 24999'}, {'age': '45 to 54', 'income': '25000 to 29999'}, {'age': '45 to 54', 'income': '30000 to 34999'}, {'age': '45 to 54', 'income': '35000 to 39999'}, {'age': '45 to 54', 'income': '40000 to 44999'}, {'age': '45 to 54', 'income': '45000 to 49999'}, {'age': '45 to 54', 'income': '50000 to 54999'}, {'age': '45 to 54', 'income': '55000 to 59999'}, {'age': '45 to 54', 'income': '60000 to 64999'}, {'age': '45 to 54', 'income': '65000 to 69999'}, {'age': '45 to 54', 'income': '70000 to 74999'}, {'age': '45 to 54', 'income': '75000 to 79999'}, {'age': '45 to 54', 'income': '80000 to 84999'}, {'age': '45 to 54', 'income': '85000 to 89999'}, {'age': '45 to 54', 'income': '90000 to 94999'}, {'age': '45 to 54', 'income': '95000 to 99999'}, {'age': '45 to 54', 'income': '100000 to 104999'}, {'age': '45 to 54', 'income': '105000 to 109999'}, {'age': '45 to 54', 'income': '110000 to 114999'}, {'age': '45 to 54', 'income': '115000 to 119999'}, {'age': '45 to 54', 'income': '120000 to 124999'}, {'age': '45 to 54', 'income': '125000 to 129999'}, {'age': '45 to 54', 'income': '130000 to 134999'}, {'age': '45 to 54', 'income': '135000 to 139999'}, {'age': '45 to 54', 'income': '140000 to 144999'}, {'age': '45 to 54', 'income': '145000 to 149999'}, {'age': '45 to 54', 'income': '150000 to 154999'}, {'age': '45 to 54', 'income': '155000 to 159999'}, {'age': '45 to 54', 'income': '160000 to 164999'}, {'age': '45 to 54', 'income': '165000 to 169999'}, {'age': '45 to 54', 'income': '170000 to 174999'}, {'age': '45 to 54', 'income': '175000 to 179999'}, {'age': '45 to 54', 'income': '180000 to 184999'}, {'age': '45 to 54', 'income': '185000 to 189999'}, {'age': '45 to 54', 'income': '190000 to 194999'}, {'age': '45 to 54', 'income': '195000 to 199999'}, {'age': '45 to 54', 'income': '200000 and over'}, {'age': '55 to 64', 'income': '0 to 5000'}, {'age': '55 to 64', 'income': '5000 to 9999'}, {'age': '55 to 64', 'income': '10000 to 14999'}, {'age': '55 to 64', 'income': '15000 to 19999'}, {'age': '55 to 64', 'income': '20000 to 24999'}, {'age': '55 to 64', 'income': '25000 to 29999'}, {'age': '55 to 64', 'income': '30000 to 34999'}, {'age': '55 to 64', 'income': '35000 to 39999'}, {'age': '55 to 64', 'income': '40000 to 44999'}, {'age': '55 to 64', 'income': '45000 to 49999'}, {'age': '55 to 64', 'income': '50000 to 54999'}, {'age': '55 to 64', 'income': '55000 to 59999'}, {'age': '55 to 64', 'income': '60000 to 64999'}, {'age': '55 to 64', 'income': '65000 to 69999'}, {'age': '55 to 64', 'income': '70000 to 74999'}, {'age': '55 to 64', 'income': '75000 to 79999'}, {'age': '55 to 64', 'income': '80000 to 84999'}, {'age': '55 to 64', 'income': '85000 to 89999'}, {'age': '55 to 64', 'income': '90000 to 94999'}, {'age': '55 to 64', 'income': '95000 to 99999'}, {'age': '55 to 64', 'income': '100000 to 104999'}, {'age': '55 to 64', 'income': '105000 to 109999'}, {'age': '55 to 64', 'income': '110000 to 114999'}, {'age': '55 to 64', 'income': '115000 to 119999'}, {'age': '55 to 64', 'income': '120000 to 124999'}, {'age': '55 to 64', 'income': '125000 to 129999'}, {'age': '55 to 64', 'income': '130000 to 134999'}, {'age': '55 to 64', 'income': '135000 to 139999'}, {'age': '55 to 64', 'income': '140000 to 144999'}, {'age': '55 to 64', 'income': '145000 to 149999'}, {'age': '55 to 64', 'income': '150000 to 154999'}, {'age': '55 to 64', 'income': '155000 to 159999'}, {'age': '55 to 64', 'income': '160000 to 164999'}, {'age': '55 to 64', 'income': '165000 to 169999'}, {'age': '55 to 64', 'income': '170000 to 174999'}, {'age': '55 to 64', 'income': '175000 to 179999'}, {'age': '55 to 64', 'income': '180000 to 184999'}, {'age': '55 to 64', 'income': '185000 to 189999'}, {'age': '55 to 64', 'income': '190000 to 194999'}, {'age': '55 to 64', 'income': '195000 to 199999'}, {'age': '55 to 64', 'income': '200000 and over'}, {'age': '65 to 74', 'income': '0 to 5000'}, {'age': '65 to 74', 'income': '5000 to 9999'}, {'age': '65 to 74', 'income': '10000 to 14999'}, {'age': '65 to 74', 'income': '15000 to 19999'}, {'age': '65 to 74', 'income': '20000 to 24999'}, {'age': '65 to 74', 'income': '25000 to 29999'}, {'age': '65 to 74', 'income': '30000 to 34999'}, {'age': '65 to 74', 'income': '35000 to 39999'}, {'age': '65 to 74', 'income': '40000 to 44999'}, {'age': '65 to 74', 'income': '45000 to 49999'}, {'age': '65 to 74', 'income': '50000 to 54999'}, {'age': '65 to 74', 'income': '55000 to 59999'}, {'age': '65 to 74', 'income': '60000 to 64999'}, {'age': '65 to 74', 'income': '65000 to 69999'}, {'age': '65 to 74', 'income': '70000 to 74999'}, {'age': '65 to 74', 'income': '75000 to 79999'}, {'age': '65 to 74', 'income': '80000 to 84999'}, {'age': '65 to 74', 'income': '85000 to 89999'}, {'age': '65 to 74', 'income': '90000 to 94999'}, {'age': '65 to 74', 'income': '95000 to 99999'}, {'age': '65 to 74', 'income': '100000 to 104999'}, {'age': '65 to 74', 'income': '105000 to 109999'}, {'age': '65 to 74', 'income': '110000 to 114999'}, {'age': '65 to 74', 'income': '115000 to 119999'}, {'age': '65 to 74', 'income': '120000 to 124999'}, {'age': '65 to 74', 'income': '125000 to 129999'}, {'age': '65 to 74', 'income': '130000 to 134999'}, {'age': '65 to 74', 'income': '135000 to 139999'}, {'age': '65 to 74', 'income': '140000 to 144999'}, {'age': '65 to 74', 'income': '145000 to 149999'}, {'age': '65 to 74', 'income': '150000 to 154999'}, {'age': '65 to 74', 'income': '155000 to 159999'}, {'age': '65 to 74', 'income': '160000 to 164999'}, {'age': '65 to 74', 'income': '165000 to 169999'}, {'age': '65 to 74', 'income': '170000 to 174999'}, {'age': '65 to 74', 'income': '175000 to 179999'}, {'age': '65 to 74', 'income': '180000 to 184999'}, {'age': '65 to 74', 'income': '185000 to 189999'}, {'age': '65 to 74', 'income': '190000 to 194999'}, {'age': '65 to 74', 'income': '195000 to 199999'}, {'age': '65 to 74', 'income': '200000 and over'}, {'age': '75 and over', 'income': '0 to 5000'}, {'age': '75 and over', 'income': '5000 to 9999'}, {'age': '75 and over', 'income': '10000 to 14999'}, {'age': '75 and over', 'income': '15000 to 19999'}, {'age': '75 and over', 'income': '20000 to 24999'}, {'age': '75 and over', 'income': '25000 to 29999'}, {'age': '75 and over', 'income': '30000 to 34999'}, {'age': '75 and over', 'income': '35000 to 39999'}, {'age': '75 and over', 'income': '40000 to 44999'}, {'age': '75 and over', 'income': '45000 to 49999'}, {'age': '75 and over', 'income': '50000 to 54999'}, {'age': '75 and over', 'income': '55000 to 59999'}, {'age': '75 and over', 'income': '60000 to 64999'}, {'age': '75 and over', 'income': '65000 to 69999'}, {'age': '75 and over', 'income': '70000 to 74999'}, {'age': '75 and over', 'income': '75000 to 79999'}, {'age': '75 and over', 'income': '80000 to 84999'}, {'age': '75 and over', 'income': '85000 to 89999'}, {'age': '75 and over', 'income': '90000 to 94999'}, {'age': '75 and over', 'income': '95000 to 99999'}, {'age': '75 and over', 'income': '100000 to 104999'}, {'age': '75 and over', 'income': '105000 to 109999'}, {'age': '75 and over', 'income': '110000 to 114999'}, {'age': '75 and over', 'income': '115000 to 119999'}, {'age': '75 and over', 'income': '120000 to 124999'}, {'age': '75 and over', 'income': '125000 to 129999'}, {'age': '75 and over', 'income': '130000 to 134999'}, {'age': '75 and over', 'income': '135000 to 139999'}, {'age': '75 and over', 'income': '140000 to 144999'}, {'age': '75 and over', 'income': '145000 to 149999'}, {'age': '75 and over', 'income': '150000 to 154999'}, {'age': '75 and over', 'income': '155000 to 159999'}, {'age': '75 and over', 'income': '160000 to 164999'}, {'age': '75 and over', 'income': '165000 to 169999'}, {'age': '75 and over', 'income': '170000 to 174999'}, {'age': '75 and over', 'income': '175000 to 179999'}, {'age': '75 and over', 'income': '180000 to 184999'}, {'age': '75 and over', 'income': '185000 to 189999'}, {'age': '75 and over', 'income': '190000 to 194999'}, {'age': '75 and over', 'income': '195000 to 199999'}, {'age': '75 and over', 'income': '200000 and over'}]\""
      ]
     },
     "execution_count": 79,
     "metadata": {},
     "output_type": "execute_result"
    }
   ],
   "source": [
    "str(cats)"
   ]
  },
  {
   "cell_type": "code",
   "execution_count": 51,
   "id": "9de066c1",
   "metadata": {},
   "outputs": [
    {
     "data": {
      "text/html": [
       "<div>\n",
       "<style scoped>\n",
       "    .dataframe tbody tr th:only-of-type {\n",
       "        vertical-align: middle;\n",
       "    }\n",
       "\n",
       "    .dataframe tbody tr th {\n",
       "        vertical-align: top;\n",
       "    }\n",
       "\n",
       "    .dataframe thead th {\n",
       "        text-align: right;\n",
       "    }\n",
       "</style>\n",
       "<table border=\"1\" class=\"dataframe\">\n",
       "  <thead>\n",
       "    <tr style=\"text-align: right;\">\n",
       "      <th></th>\n",
       "      <th>0to5000</th>\n",
       "      <th>5000to9999</th>\n",
       "      <th>10000to14999</th>\n",
       "      <th>15000to19999</th>\n",
       "      <th>20000to24999</th>\n",
       "      <th>25000to29999</th>\n",
       "      <th>30000to34999</th>\n",
       "      <th>35000to39999</th>\n",
       "      <th>40000to44999</th>\n",
       "      <th>45000to49999</th>\n",
       "      <th>...</th>\n",
       "      <th>155000to159999</th>\n",
       "      <th>160000to164999</th>\n",
       "      <th>165000to169999</th>\n",
       "      <th>170000to174999</th>\n",
       "      <th>175000to179999</th>\n",
       "      <th>180000to184999</th>\n",
       "      <th>185000to189999</th>\n",
       "      <th>190000to194999</th>\n",
       "      <th>195000to199999</th>\n",
       "      <th>200000to300000</th>\n",
       "    </tr>\n",
       "    <tr>\n",
       "      <th>age</th>\n",
       "      <th></th>\n",
       "      <th></th>\n",
       "      <th></th>\n",
       "      <th></th>\n",
       "      <th></th>\n",
       "      <th></th>\n",
       "      <th></th>\n",
       "      <th></th>\n",
       "      <th></th>\n",
       "      <th></th>\n",
       "      <th></th>\n",
       "      <th></th>\n",
       "      <th></th>\n",
       "      <th></th>\n",
       "      <th></th>\n",
       "      <th></th>\n",
       "      <th></th>\n",
       "      <th></th>\n",
       "      <th></th>\n",
       "      <th></th>\n",
       "      <th></th>\n",
       "    </tr>\n",
       "  </thead>\n",
       "  <tbody>\n",
       "    <tr>\n",
       "      <th>15to24</th>\n",
       "      <td>348</td>\n",
       "      <td>183</td>\n",
       "      <td>208</td>\n",
       "      <td>284</td>\n",
       "      <td>287</td>\n",
       "      <td>321</td>\n",
       "      <td>358</td>\n",
       "      <td>327</td>\n",
       "      <td>307</td>\n",
       "      <td>276</td>\n",
       "      <td>...</td>\n",
       "      <td>28</td>\n",
       "      <td>49</td>\n",
       "      <td>14</td>\n",
       "      <td>12</td>\n",
       "      <td>17</td>\n",
       "      <td>18</td>\n",
       "      <td>5</td>\n",
       "      <td>6</td>\n",
       "      <td>7</td>\n",
       "      <td>117</td>\n",
       "    </tr>\n",
       "    <tr>\n",
       "      <th>25to34</th>\n",
       "      <td>619</td>\n",
       "      <td>368</td>\n",
       "      <td>441</td>\n",
       "      <td>523</td>\n",
       "      <td>755</td>\n",
       "      <td>690</td>\n",
       "      <td>794</td>\n",
       "      <td>874</td>\n",
       "      <td>883</td>\n",
       "      <td>806</td>\n",
       "      <td>...</td>\n",
       "      <td>217</td>\n",
       "      <td>166</td>\n",
       "      <td>178</td>\n",
       "      <td>186</td>\n",
       "      <td>163</td>\n",
       "      <td>157</td>\n",
       "      <td>108</td>\n",
       "      <td>128</td>\n",
       "      <td>96</td>\n",
       "      <td>1,516</td>\n",
       "    </tr>\n",
       "    <tr>\n",
       "      <th>35to44</th>\n",
       "      <td>598</td>\n",
       "      <td>376</td>\n",
       "      <td>471</td>\n",
       "      <td>472</td>\n",
       "      <td>572</td>\n",
       "      <td>597</td>\n",
       "      <td>763</td>\n",
       "      <td>754</td>\n",
       "      <td>746</td>\n",
       "      <td>689</td>\n",
       "      <td>...</td>\n",
       "      <td>243</td>\n",
       "      <td>279</td>\n",
       "      <td>170</td>\n",
       "      <td>252</td>\n",
       "      <td>223</td>\n",
       "      <td>233</td>\n",
       "      <td>170</td>\n",
       "      <td>169</td>\n",
       "      <td>123</td>\n",
       "      <td>3,042</td>\n",
       "    </tr>\n",
       "    <tr>\n",
       "      <th>45to54</th>\n",
       "      <td>581</td>\n",
       "      <td>378</td>\n",
       "      <td>601</td>\n",
       "      <td>572</td>\n",
       "      <td>630</td>\n",
       "      <td>544</td>\n",
       "      <td>604</td>\n",
       "      <td>653</td>\n",
       "      <td>653</td>\n",
       "      <td>605</td>\n",
       "      <td>...</td>\n",
       "      <td>287</td>\n",
       "      <td>310</td>\n",
       "      <td>241</td>\n",
       "      <td>220</td>\n",
       "      <td>201</td>\n",
       "      <td>211</td>\n",
       "      <td>201</td>\n",
       "      <td>166</td>\n",
       "      <td>196</td>\n",
       "      <td>3,571</td>\n",
       "    </tr>\n",
       "    <tr>\n",
       "      <th>55to64</th>\n",
       "      <td>807</td>\n",
       "      <td>699</td>\n",
       "      <td>1,037</td>\n",
       "      <td>973</td>\n",
       "      <td>906</td>\n",
       "      <td>823</td>\n",
       "      <td>902</td>\n",
       "      <td>861</td>\n",
       "      <td>852</td>\n",
       "      <td>683</td>\n",
       "      <td>...</td>\n",
       "      <td>251</td>\n",
       "      <td>216</td>\n",
       "      <td>189</td>\n",
       "      <td>252</td>\n",
       "      <td>218</td>\n",
       "      <td>203</td>\n",
       "      <td>146</td>\n",
       "      <td>224</td>\n",
       "      <td>154</td>\n",
       "      <td>3,134</td>\n",
       "    </tr>\n",
       "    <tr>\n",
       "      <th>65to74</th>\n",
       "      <td>643</td>\n",
       "      <td>465</td>\n",
       "      <td>1,086</td>\n",
       "      <td>1,249</td>\n",
       "      <td>1,189</td>\n",
       "      <td>1,091</td>\n",
       "      <td>1,014</td>\n",
       "      <td>944</td>\n",
       "      <td>932</td>\n",
       "      <td>951</td>\n",
       "      <td>...</td>\n",
       "      <td>125</td>\n",
       "      <td>167</td>\n",
       "      <td>147</td>\n",
       "      <td>150</td>\n",
       "      <td>104</td>\n",
       "      <td>96</td>\n",
       "      <td>81</td>\n",
       "      <td>104</td>\n",
       "      <td>77</td>\n",
       "      <td>1,422</td>\n",
       "    </tr>\n",
       "    <tr>\n",
       "      <th>75to85</th>\n",
       "      <td>614</td>\n",
       "      <td>457</td>\n",
       "      <td>1,265</td>\n",
       "      <td>1,596</td>\n",
       "      <td>1,269</td>\n",
       "      <td>1,120</td>\n",
       "      <td>893</td>\n",
       "      <td>873</td>\n",
       "      <td>728</td>\n",
       "      <td>675</td>\n",
       "      <td>...</td>\n",
       "      <td>69</td>\n",
       "      <td>64</td>\n",
       "      <td>55</td>\n",
       "      <td>38</td>\n",
       "      <td>53</td>\n",
       "      <td>23</td>\n",
       "      <td>44</td>\n",
       "      <td>51</td>\n",
       "      <td>42</td>\n",
       "      <td>517</td>\n",
       "    </tr>\n",
       "  </tbody>\n",
       "</table>\n",
       "<p>7 rows × 41 columns</p>\n",
       "</div>"
      ],
      "text/plain": [
       "        0to5000  5000to9999 10000to14999 15000to19999 20000to24999  \\\n",
       "age                                                                  \n",
       "15to24      348         183          208          284          287   \n",
       "25to34      619         368          441          523          755   \n",
       "35to44      598         376          471          472          572   \n",
       "45to54      581         378          601          572          630   \n",
       "55to64      807         699        1,037          973          906   \n",
       "65to74      643         465        1,086        1,249        1,189   \n",
       "75to85      614         457        1,265        1,596        1,269   \n",
       "\n",
       "       25000to29999 30000to34999  35000to39999  40000to44999  45000to49999  \\\n",
       "age                                                                          \n",
       "15to24          321          358           327           307           276   \n",
       "25to34          690          794           874           883           806   \n",
       "35to44          597          763           754           746           689   \n",
       "45to54          544          604           653           653           605   \n",
       "55to64          823          902           861           852           683   \n",
       "65to74        1,091        1,014           944           932           951   \n",
       "75to85        1,120          893           873           728           675   \n",
       "\n",
       "        ...  155000to159999  160000to164999  165000to169999  170000to174999  \\\n",
       "age     ...                                                                   \n",
       "15to24  ...              28              49              14              12   \n",
       "25to34  ...             217             166             178             186   \n",
       "35to44  ...             243             279             170             252   \n",
       "45to54  ...             287             310             241             220   \n",
       "55to64  ...             251             216             189             252   \n",
       "65to74  ...             125             167             147             150   \n",
       "75to85  ...              69              64              55              38   \n",
       "\n",
       "        175000to179999  180000to184999  185000to189999  190000to194999  \\\n",
       "age                                                                      \n",
       "15to24              17              18               5               6   \n",
       "25to34             163             157             108             128   \n",
       "35to44             223             233             170             169   \n",
       "45to54             201             211             201             166   \n",
       "55to64             218             203             146             224   \n",
       "65to74             104              96              81             104   \n",
       "75to85              53              23              44              51   \n",
       "\n",
       "        195000to199999  200000to300000  \n",
       "age                                     \n",
       "15to24               7             117  \n",
       "25to34              96           1,516  \n",
       "35to44             123           3,042  \n",
       "45to54             196           3,571  \n",
       "55to64             154           3,134  \n",
       "65to74              77           1,422  \n",
       "75to85              42             517  \n",
       "\n",
       "[7 rows x 41 columns]"
      ]
     },
     "execution_count": 51,
     "metadata": {},
     "output_type": "execute_result"
    }
   ],
   "source": [
    "dist"
   ]
  },
  {
   "cell_type": "code",
   "execution_count": 46,
   "id": "38898b7a",
   "metadata": {},
   "outputs": [
    {
     "data": {
      "text/plain": [
       "Index(['0to5000', '5000to9999', '10000to14999', '15000to19999', '20000to24999',\n",
       "       '25000to29999', '30000to34999', '35000to39999', '40000to44999',\n",
       "       '45000to49999', '50000to54999', '55000to59999', '60000to64999',\n",
       "       '65000to69999', '70000to74999', '75000to79999', '80000to84999',\n",
       "       '85000to89999', '90000to94999', '95000to99999', '100000to104999',\n",
       "       '105000to109999', '110000to114999', '115000to119999', '120000to124999',\n",
       "       '125000to129999', '130000to134999', '135000to139999', '140000to144999',\n",
       "       '145000to149999', '150000to154999', '155000to159999', '160000to164999',\n",
       "       '165000to169999', '170000to174999', '175000to179999', '180000to184999',\n",
       "       '185000to189999', '190000to194999', '195000to199999', '200000andover'],\n",
       "      dtype='object')"
      ]
     },
     "execution_count": 46,
     "metadata": {},
     "output_type": "execute_result"
    }
   ],
   "source": [
    "dist.columns.str.replace(',','').str.replace(' ', '').str.replace('$', '', regex=False)"
   ]
  },
  {
   "cell_type": "code",
   "execution_count": 2,
   "id": "18b25b7e",
   "metadata": {},
   "outputs": [],
   "source": [
    "import models as m\n",
    "import numpy as np\n",
    "import simulate_static\n",
    "from tqdm import tqdm"
   ]
  },
  {
   "cell_type": "code",
   "execution_count": 3,
   "id": "d54026cc",
   "metadata": {},
   "outputs": [],
   "source": [
    "m.create_db()"
   ]
  },
  {
   "cell_type": "code",
   "execution_count": 4,
   "id": "0b69a53e",
   "metadata": {},
   "outputs": [],
   "source": [
    "db = m.Session()"
   ]
  },
  {
   "cell_type": "code",
   "execution_count": 16,
   "id": "8bdeda2a",
   "metadata": {},
   "outputs": [],
   "source": [
    "K = 12\n",
    "game = m.Game(name='Test Game', seed=123, n_days=30*K*2, n_days_p0=30*K, n_authors=50, n_users=1000)"
   ]
  },
  {
   "cell_type": "code",
   "execution_count": 18,
   "id": "27d80ed6",
   "metadata": {},
   "outputs": [],
   "source": [
    "db.add(game)\n",
    "db.commit()"
   ]
  },
  {
   "cell_type": "code",
   "execution_count": 6,
   "id": "84ac31c8",
   "metadata": {},
   "outputs": [],
   "source": [
    "TOPIC_NAMES = ['Opinion', 'Politics', 'World Events', 'Business', 'Technology', 'Arts & Culture', 'Sports', 'Health', 'Home', 'Travel', 'Fashion', 'Food']\n",
    "TOPIC_FREQS = [0.1, 0.1, 0.1, 0.1, 0.08, 0.08, 0.08, 0.08, 0.08, 0.07, 0.07, 0.06]\n",
    "\n",
    "topic_affinities = np.ones(len(TOPIC_NAMES))*0.2"
   ]
  },
  {
   "cell_type": "code",
   "execution_count": 7,
   "id": "4e3effe4",
   "metadata": {},
   "outputs": [
    {
     "name": "stdout",
     "output_type": "stream",
     "text": [
      "Generating topics\n",
      "Generating authors\n",
      "Generating events\n"
     ]
    },
    {
     "name": "stderr",
     "output_type": "stream",
     "text": [
      "100%|███████████████████████████████████████████████████████████████████████████████| 720/720 [00:06<00:00, 109.91it/s]\n"
     ]
    },
    {
     "name": "stdout",
     "output_type": "stream",
     "text": [
      "Generating articles\n"
     ]
    },
    {
     "name": "stderr",
     "output_type": "stream",
     "text": [
      "  0%|                                                                                          | 0/720 [00:00<?, ?it/s]C:\\Users\\crg2133\\Documents\\GitHub\\BA2-Game\\simulate_static.py:133: RuntimeWarning: divide by zero encountered in double_scalars\n",
      "  time_effect = np.exp(-(day - event.start)/ (-4/np.log(event.intensity)))\n",
      "100%|████████████████████████████████████████████████████████████████████████████████| 720/720 [02:55<00:00,  4.11it/s]\n"
     ]
    }
   ],
   "source": [
    "        # Create the topics\n",
    "        # -----------------\n",
    "        print('Generating topics')\n",
    "        \n",
    "        for t_name, t_freq in zip(TOPIC_NAMES, TOPIC_FREQS):\n",
    "            game.topics.append(m.Topic(name=t_name, freq=t_freq, game=game))\n",
    "        \n",
    "        db.commit()\n",
    "        \n",
    "        # Create the authors\n",
    "        # ------------------\n",
    "        print('Generating authors')\n",
    "        \n",
    "        for a in range(game.n_authors):\n",
    "            author =  m.Author(name    = simulate_static.author_name(game),\n",
    "                               quality = simulate_static.author_quality(game))\n",
    "            game.authors.append(author)\n",
    "            \n",
    "            # Add author expertise for every topic\n",
    "            for t in game.topics:\n",
    "                author.topic_expertises.append(m.AuthorTopic(topic=t))\n",
    "            \n",
    "            simulate_static.add_author_expertises(author, game)\n",
    "                    \n",
    "        # Add author productivities\n",
    "        simulate_static.add_author_productivities(game)\n",
    "        \n",
    "        db.commit()\n",
    "        \n",
    "        # Create the events\n",
    "        # -----------------\n",
    "        print('Generating events')\n",
    "        \n",
    "        for day in tqdm(range(game.n_days)):\n",
    "            n_events = simulate_static.events_per_day(game)\n",
    "            \n",
    "            for _ in range(n_events):\n",
    "                event = m.Event(start     = day,\n",
    "                                intensity = simulate_static.event_intensity(game))\n",
    "                game.events.append(event)\n",
    "                \n",
    "                # Add topic relevance for each topic\n",
    "                for t in game.topics:\n",
    "                    event.topic_relevances.append(m.EventTopic(topic=t))\n",
    "                \n",
    "                simulate_static.add_event_relevances(event, game)\n",
    "        \n",
    "        db.commit()\n",
    "        \n",
    "        # Create the articles\n",
    "        # -------------------\n",
    "        print('Generating articles')\n",
    "        \n",
    "        for day in tqdm(range(game.n_days)):\n",
    "            # Find the articles that will be published\n",
    "            articles = [simulate_static.event_articles(event, day)\n",
    "                                                for event in game.events]\n",
    "            \n",
    "            # Simulate the articles\n",
    "            game.articles.extend([simulate_static.article(i)\n",
    "                                        for i in articles if i is not None])\n",
    "            \n",
    "        db.commit()\n",
    "            "
   ]
  },
  {
   "cell_type": "code",
   "execution_count": 16,
   "id": "836dc695",
   "metadata": {},
   "outputs": [
    {
     "data": {
      "text/plain": [
       "'Business'"
      ]
     },
     "execution_count": 16,
     "metadata": {},
     "output_type": "execute_result"
    }
   ],
   "source": [
    "game.articles[5].topic.name"
   ]
  },
  {
   "cell_type": "markdown",
   "id": "e832258b",
   "metadata": {},
   "source": [
    "# Raw"
   ]
  },
  {
   "cell_type": "code",
   "execution_count": 1,
   "id": "c8441339",
   "metadata": {},
   "outputs": [],
   "source": [
    "import sqlalchemy as sa\n",
    "import sqlalchemy.orm as sa_orm\n",
    "\n",
    "engine          = sa.create_engine('sqlite:///a.db')\n",
    "Session         = sa_orm.sessionmaker(engine)\n",
    "\n",
    "mapper_registry = sa_orm.registry()\n",
    "Base            = mapper_registry.generate_base()"
   ]
  },
  {
   "cell_type": "code",
   "execution_count": 2,
   "id": "e050bb8e",
   "metadata": {},
   "outputs": [],
   "source": [
    "class A(Base):\n",
    "    __tablename__ = 'A'\n",
    "    \n",
    "    id = sa.Column(sa.Integer, primary_key=True)\n",
    "    \n",
    "    bs = sa_orm.relationship('B')"
   ]
  },
  {
   "cell_type": "code",
   "execution_count": 3,
   "id": "dfa7e364",
   "metadata": {},
   "outputs": [],
   "source": [
    "class B(Base):\n",
    "    __tablename__ = 'B'\n",
    "    \n",
    "    id = sa.Column(sa.Integer, primary_key=True)\n",
    "\n",
    "    name = sa.Column(sa.String(50), nullable=False)\n",
    "    \n",
    "    A_id = sa.Column(sa.ForeignKey('A.id'))\n",
    "    "
   ]
  },
  {
   "cell_type": "code",
   "execution_count": 4,
   "id": "477379ba",
   "metadata": {},
   "outputs": [],
   "source": [
    "mapper_registry.metadata.drop_all(engine)\n",
    "mapper_registry.metadata.create_all(engine)"
   ]
  },
  {
   "cell_type": "code",
   "execution_count": 5,
   "id": "c567b087",
   "metadata": {},
   "outputs": [
    {
     "name": "stdout",
     "output_type": "stream",
     "text": [
      "0\n",
      "3\n"
     ]
    }
   ],
   "source": [
    "db = Session()\n",
    "\n",
    "a = A()\n",
    "\n",
    "db.add(a)\n",
    "\n",
    "#a.bs.extend([B(), B(), B()])\n",
    "\n",
    "b1 = B(A_id = 1, name='hello')\n",
    "b2 = B(A_id = 1, name='hello')\n",
    "b3 = B(A_id = 1, name='hello')\n",
    "\n",
    "db.add(b1)\n",
    "db.add(b2)\n",
    "db.add(b3)\n",
    "\n",
    "print(len(a.bs))\n",
    "\n",
    "for bb in a.bs:\n",
    "    pass\n",
    "    bb.name = 'hello'\n",
    "\n",
    "db.commit()\n",
    "\n",
    "print(len(a.bs))"
   ]
  },
  {
   "cell_type": "code",
   "execution_count": 6,
   "id": "a6258cac",
   "metadata": {},
   "outputs": [
    {
     "data": {
      "text/plain": [
       "1"
      ]
     },
     "execution_count": 6,
     "metadata": {},
     "output_type": "execute_result"
    }
   ],
   "source": [
    "db.get(B, 1).A_id"
   ]
  },
  {
   "cell_type": "code",
   "execution_count": 9,
   "id": "d0fcf505",
   "metadata": {},
   "outputs": [],
   "source": [
    "db.flush()"
   ]
  },
  {
   "cell_type": "code",
   "execution_count": 20,
   "id": "15192388",
   "metadata": {},
   "outputs": [],
   "source": [
    "db.close()"
   ]
  },
  {
   "cell_type": "code",
   "execution_count": 21,
   "id": "dec0b14f",
   "metadata": {},
   "outputs": [],
   "source": [
    "db = Session()"
   ]
  },
  {
   "cell_type": "code",
   "execution_count": 5,
   "id": "c5a7a253",
   "metadata": {},
   "outputs": [
    {
     "ename": "IntegrityError",
     "evalue": "(sqlite3.IntegrityError) NOT NULL constraint failed: A.name\n[SQL: INSERT INTO \"A\" (name) VALUES (?)]\n[parameters: (None,)]\n(Background on this error at: https://sqlalche.me/e/14/gkpj)",
     "output_type": "error",
     "traceback": [
      "\u001b[1;31m---------------------------------------------------------------------------\u001b[0m",
      "\u001b[1;31mIntegrityError\u001b[0m                            Traceback (most recent call last)",
      "\u001b[1;32m~\\anaconda3\\lib\\site-packages\\sqlalchemy\\engine\\base.py\u001b[0m in \u001b[0;36m_execute_context\u001b[1;34m(self, dialect, constructor, statement, parameters, execution_options, *args, **kw)\u001b[0m\n\u001b[0;32m   1770\u001b[0m                 \u001b[1;32mif\u001b[0m \u001b[1;32mnot\u001b[0m \u001b[0mevt_handled\u001b[0m\u001b[1;33m:\u001b[0m\u001b[1;33m\u001b[0m\u001b[1;33m\u001b[0m\u001b[0m\n\u001b[1;32m-> 1771\u001b[1;33m                     self.dialect.do_execute(\n\u001b[0m\u001b[0;32m   1772\u001b[0m                         \u001b[0mcursor\u001b[0m\u001b[1;33m,\u001b[0m \u001b[0mstatement\u001b[0m\u001b[1;33m,\u001b[0m \u001b[0mparameters\u001b[0m\u001b[1;33m,\u001b[0m \u001b[0mcontext\u001b[0m\u001b[1;33m\u001b[0m\u001b[1;33m\u001b[0m\u001b[0m\n",
      "\u001b[1;32m~\\anaconda3\\lib\\site-packages\\sqlalchemy\\engine\\default.py\u001b[0m in \u001b[0;36mdo_execute\u001b[1;34m(self, cursor, statement, parameters, context)\u001b[0m\n\u001b[0;32m    716\u001b[0m     \u001b[1;32mdef\u001b[0m \u001b[0mdo_execute\u001b[0m\u001b[1;33m(\u001b[0m\u001b[0mself\u001b[0m\u001b[1;33m,\u001b[0m \u001b[0mcursor\u001b[0m\u001b[1;33m,\u001b[0m \u001b[0mstatement\u001b[0m\u001b[1;33m,\u001b[0m \u001b[0mparameters\u001b[0m\u001b[1;33m,\u001b[0m \u001b[0mcontext\u001b[0m\u001b[1;33m=\u001b[0m\u001b[1;32mNone\u001b[0m\u001b[1;33m)\u001b[0m\u001b[1;33m:\u001b[0m\u001b[1;33m\u001b[0m\u001b[1;33m\u001b[0m\u001b[0m\n\u001b[1;32m--> 717\u001b[1;33m         \u001b[0mcursor\u001b[0m\u001b[1;33m.\u001b[0m\u001b[0mexecute\u001b[0m\u001b[1;33m(\u001b[0m\u001b[0mstatement\u001b[0m\u001b[1;33m,\u001b[0m \u001b[0mparameters\u001b[0m\u001b[1;33m)\u001b[0m\u001b[1;33m\u001b[0m\u001b[1;33m\u001b[0m\u001b[0m\n\u001b[0m\u001b[0;32m    718\u001b[0m \u001b[1;33m\u001b[0m\u001b[0m\n",
      "\u001b[1;31mIntegrityError\u001b[0m: NOT NULL constraint failed: A.name",
      "\nThe above exception was the direct cause of the following exception:\n",
      "\u001b[1;31mIntegrityError\u001b[0m                            Traceback (most recent call last)",
      "\u001b[1;32m~\\AppData\\Local\\Temp/ipykernel_28328/3486396077.py\u001b[0m in \u001b[0;36m<module>\u001b[1;34m\u001b[0m\n\u001b[0;32m      2\u001b[0m \u001b[0ma\u001b[0m \u001b[1;33m=\u001b[0m \u001b[0mA\u001b[0m\u001b[1;33m(\u001b[0m\u001b[1;33m)\u001b[0m\u001b[1;33m\u001b[0m\u001b[1;33m\u001b[0m\u001b[0m\n\u001b[0;32m      3\u001b[0m \u001b[0mdb\u001b[0m\u001b[1;33m.\u001b[0m\u001b[0madd\u001b[0m\u001b[1;33m(\u001b[0m\u001b[0ma\u001b[0m\u001b[1;33m)\u001b[0m\u001b[1;33m\u001b[0m\u001b[1;33m\u001b[0m\u001b[0m\n\u001b[1;32m----> 4\u001b[1;33m \u001b[0mdb\u001b[0m\u001b[1;33m.\u001b[0m\u001b[0mflush\u001b[0m\u001b[1;33m(\u001b[0m\u001b[1;33m)\u001b[0m\u001b[1;33m\u001b[0m\u001b[1;33m\u001b[0m\u001b[0m\n\u001b[0m",
      "\u001b[1;32m~\\anaconda3\\lib\\site-packages\\sqlalchemy\\orm\\session.py\u001b[0m in \u001b[0;36mflush\u001b[1;34m(self, objects)\u001b[0m\n\u001b[0;32m   3296\u001b[0m         \u001b[1;32mtry\u001b[0m\u001b[1;33m:\u001b[0m\u001b[1;33m\u001b[0m\u001b[1;33m\u001b[0m\u001b[0m\n\u001b[0;32m   3297\u001b[0m             \u001b[0mself\u001b[0m\u001b[1;33m.\u001b[0m\u001b[0m_flushing\u001b[0m \u001b[1;33m=\u001b[0m \u001b[1;32mTrue\u001b[0m\u001b[1;33m\u001b[0m\u001b[1;33m\u001b[0m\u001b[0m\n\u001b[1;32m-> 3298\u001b[1;33m             \u001b[0mself\u001b[0m\u001b[1;33m.\u001b[0m\u001b[0m_flush\u001b[0m\u001b[1;33m(\u001b[0m\u001b[0mobjects\u001b[0m\u001b[1;33m)\u001b[0m\u001b[1;33m\u001b[0m\u001b[1;33m\u001b[0m\u001b[0m\n\u001b[0m\u001b[0;32m   3299\u001b[0m         \u001b[1;32mfinally\u001b[0m\u001b[1;33m:\u001b[0m\u001b[1;33m\u001b[0m\u001b[1;33m\u001b[0m\u001b[0m\n\u001b[0;32m   3300\u001b[0m             \u001b[0mself\u001b[0m\u001b[1;33m.\u001b[0m\u001b[0m_flushing\u001b[0m \u001b[1;33m=\u001b[0m \u001b[1;32mFalse\u001b[0m\u001b[1;33m\u001b[0m\u001b[1;33m\u001b[0m\u001b[0m\n",
      "\u001b[1;32m~\\anaconda3\\lib\\site-packages\\sqlalchemy\\orm\\session.py\u001b[0m in \u001b[0;36m_flush\u001b[1;34m(self, objects)\u001b[0m\n\u001b[0;32m   3436\u001b[0m         \u001b[1;32mexcept\u001b[0m\u001b[1;33m:\u001b[0m\u001b[1;33m\u001b[0m\u001b[1;33m\u001b[0m\u001b[0m\n\u001b[0;32m   3437\u001b[0m             \u001b[1;32mwith\u001b[0m \u001b[0mutil\u001b[0m\u001b[1;33m.\u001b[0m\u001b[0msafe_reraise\u001b[0m\u001b[1;33m(\u001b[0m\u001b[1;33m)\u001b[0m\u001b[1;33m:\u001b[0m\u001b[1;33m\u001b[0m\u001b[1;33m\u001b[0m\u001b[0m\n\u001b[1;32m-> 3438\u001b[1;33m                 \u001b[0mtransaction\u001b[0m\u001b[1;33m.\u001b[0m\u001b[0mrollback\u001b[0m\u001b[1;33m(\u001b[0m\u001b[0m_capture_exception\u001b[0m\u001b[1;33m=\u001b[0m\u001b[1;32mTrue\u001b[0m\u001b[1;33m)\u001b[0m\u001b[1;33m\u001b[0m\u001b[1;33m\u001b[0m\u001b[0m\n\u001b[0m\u001b[0;32m   3439\u001b[0m \u001b[1;33m\u001b[0m\u001b[0m\n\u001b[0;32m   3440\u001b[0m     def bulk_save_objects(\n",
      "\u001b[1;32m~\\anaconda3\\lib\\site-packages\\sqlalchemy\\util\\langhelpers.py\u001b[0m in \u001b[0;36m__exit__\u001b[1;34m(self, type_, value, traceback)\u001b[0m\n\u001b[0;32m     68\u001b[0m             \u001b[0mself\u001b[0m\u001b[1;33m.\u001b[0m\u001b[0m_exc_info\u001b[0m \u001b[1;33m=\u001b[0m \u001b[1;32mNone\u001b[0m  \u001b[1;31m# remove potential circular references\u001b[0m\u001b[1;33m\u001b[0m\u001b[1;33m\u001b[0m\u001b[0m\n\u001b[0;32m     69\u001b[0m             \u001b[1;32mif\u001b[0m \u001b[1;32mnot\u001b[0m \u001b[0mself\u001b[0m\u001b[1;33m.\u001b[0m\u001b[0mwarn_only\u001b[0m\u001b[1;33m:\u001b[0m\u001b[1;33m\u001b[0m\u001b[1;33m\u001b[0m\u001b[0m\n\u001b[1;32m---> 70\u001b[1;33m                 compat.raise_(\n\u001b[0m\u001b[0;32m     71\u001b[0m                     \u001b[0mexc_value\u001b[0m\u001b[1;33m,\u001b[0m\u001b[1;33m\u001b[0m\u001b[1;33m\u001b[0m\u001b[0m\n\u001b[0;32m     72\u001b[0m                     \u001b[0mwith_traceback\u001b[0m\u001b[1;33m=\u001b[0m\u001b[0mexc_tb\u001b[0m\u001b[1;33m,\u001b[0m\u001b[1;33m\u001b[0m\u001b[1;33m\u001b[0m\u001b[0m\n",
      "\u001b[1;32m~\\anaconda3\\lib\\site-packages\\sqlalchemy\\util\\compat.py\u001b[0m in \u001b[0;36mraise_\u001b[1;34m(***failed resolving arguments***)\u001b[0m\n\u001b[0;32m    205\u001b[0m \u001b[1;33m\u001b[0m\u001b[0m\n\u001b[0;32m    206\u001b[0m         \u001b[1;32mtry\u001b[0m\u001b[1;33m:\u001b[0m\u001b[1;33m\u001b[0m\u001b[1;33m\u001b[0m\u001b[0m\n\u001b[1;32m--> 207\u001b[1;33m             \u001b[1;32mraise\u001b[0m \u001b[0mexception\u001b[0m\u001b[1;33m\u001b[0m\u001b[1;33m\u001b[0m\u001b[0m\n\u001b[0m\u001b[0;32m    208\u001b[0m         \u001b[1;32mfinally\u001b[0m\u001b[1;33m:\u001b[0m\u001b[1;33m\u001b[0m\u001b[1;33m\u001b[0m\u001b[0m\n\u001b[0;32m    209\u001b[0m             \u001b[1;31m# credit to\u001b[0m\u001b[1;33m\u001b[0m\u001b[1;33m\u001b[0m\u001b[0m\n",
      "\u001b[1;32m~\\anaconda3\\lib\\site-packages\\sqlalchemy\\orm\\session.py\u001b[0m in \u001b[0;36m_flush\u001b[1;34m(self, objects)\u001b[0m\n\u001b[0;32m   3396\u001b[0m             \u001b[0mself\u001b[0m\u001b[1;33m.\u001b[0m\u001b[0m_warn_on_events\u001b[0m \u001b[1;33m=\u001b[0m \u001b[1;32mTrue\u001b[0m\u001b[1;33m\u001b[0m\u001b[1;33m\u001b[0m\u001b[0m\n\u001b[0;32m   3397\u001b[0m             \u001b[1;32mtry\u001b[0m\u001b[1;33m:\u001b[0m\u001b[1;33m\u001b[0m\u001b[1;33m\u001b[0m\u001b[0m\n\u001b[1;32m-> 3398\u001b[1;33m                 \u001b[0mflush_context\u001b[0m\u001b[1;33m.\u001b[0m\u001b[0mexecute\u001b[0m\u001b[1;33m(\u001b[0m\u001b[1;33m)\u001b[0m\u001b[1;33m\u001b[0m\u001b[1;33m\u001b[0m\u001b[0m\n\u001b[0m\u001b[0;32m   3399\u001b[0m             \u001b[1;32mfinally\u001b[0m\u001b[1;33m:\u001b[0m\u001b[1;33m\u001b[0m\u001b[1;33m\u001b[0m\u001b[0m\n\u001b[0;32m   3400\u001b[0m                 \u001b[0mself\u001b[0m\u001b[1;33m.\u001b[0m\u001b[0m_warn_on_events\u001b[0m \u001b[1;33m=\u001b[0m \u001b[1;32mFalse\u001b[0m\u001b[1;33m\u001b[0m\u001b[1;33m\u001b[0m\u001b[0m\n",
      "\u001b[1;32m~\\anaconda3\\lib\\site-packages\\sqlalchemy\\orm\\unitofwork.py\u001b[0m in \u001b[0;36mexecute\u001b[1;34m(self)\u001b[0m\n\u001b[0;32m    454\u001b[0m         \u001b[1;32melse\u001b[0m\u001b[1;33m:\u001b[0m\u001b[1;33m\u001b[0m\u001b[1;33m\u001b[0m\u001b[0m\n\u001b[0;32m    455\u001b[0m             \u001b[1;32mfor\u001b[0m \u001b[0mrec\u001b[0m \u001b[1;32min\u001b[0m \u001b[0mtopological\u001b[0m\u001b[1;33m.\u001b[0m\u001b[0msort\u001b[0m\u001b[1;33m(\u001b[0m\u001b[0mself\u001b[0m\u001b[1;33m.\u001b[0m\u001b[0mdependencies\u001b[0m\u001b[1;33m,\u001b[0m \u001b[0mpostsort_actions\u001b[0m\u001b[1;33m)\u001b[0m\u001b[1;33m:\u001b[0m\u001b[1;33m\u001b[0m\u001b[1;33m\u001b[0m\u001b[0m\n\u001b[1;32m--> 456\u001b[1;33m                 \u001b[0mrec\u001b[0m\u001b[1;33m.\u001b[0m\u001b[0mexecute\u001b[0m\u001b[1;33m(\u001b[0m\u001b[0mself\u001b[0m\u001b[1;33m)\u001b[0m\u001b[1;33m\u001b[0m\u001b[1;33m\u001b[0m\u001b[0m\n\u001b[0m\u001b[0;32m    457\u001b[0m \u001b[1;33m\u001b[0m\u001b[0m\n\u001b[0;32m    458\u001b[0m     \u001b[1;32mdef\u001b[0m \u001b[0mfinalize_flush_changes\u001b[0m\u001b[1;33m(\u001b[0m\u001b[0mself\u001b[0m\u001b[1;33m)\u001b[0m\u001b[1;33m:\u001b[0m\u001b[1;33m\u001b[0m\u001b[1;33m\u001b[0m\u001b[0m\n",
      "\u001b[1;32m~\\anaconda3\\lib\\site-packages\\sqlalchemy\\orm\\unitofwork.py\u001b[0m in \u001b[0;36mexecute\u001b[1;34m(self, uow)\u001b[0m\n\u001b[0;32m    628\u001b[0m     \u001b[1;33m@\u001b[0m\u001b[0mutil\u001b[0m\u001b[1;33m.\u001b[0m\u001b[0mpreload_module\u001b[0m\u001b[1;33m(\u001b[0m\u001b[1;34m\"sqlalchemy.orm.persistence\"\u001b[0m\u001b[1;33m)\u001b[0m\u001b[1;33m\u001b[0m\u001b[1;33m\u001b[0m\u001b[0m\n\u001b[0;32m    629\u001b[0m     \u001b[1;32mdef\u001b[0m \u001b[0mexecute\u001b[0m\u001b[1;33m(\u001b[0m\u001b[0mself\u001b[0m\u001b[1;33m,\u001b[0m \u001b[0muow\u001b[0m\u001b[1;33m)\u001b[0m\u001b[1;33m:\u001b[0m\u001b[1;33m\u001b[0m\u001b[1;33m\u001b[0m\u001b[0m\n\u001b[1;32m--> 630\u001b[1;33m         util.preloaded.orm_persistence.save_obj(\n\u001b[0m\u001b[0;32m    631\u001b[0m             \u001b[0mself\u001b[0m\u001b[1;33m.\u001b[0m\u001b[0mmapper\u001b[0m\u001b[1;33m,\u001b[0m\u001b[1;33m\u001b[0m\u001b[1;33m\u001b[0m\u001b[0m\n\u001b[0;32m    632\u001b[0m             \u001b[0muow\u001b[0m\u001b[1;33m.\u001b[0m\u001b[0mstates_for_mapper_hierarchy\u001b[0m\u001b[1;33m(\u001b[0m\u001b[0mself\u001b[0m\u001b[1;33m.\u001b[0m\u001b[0mmapper\u001b[0m\u001b[1;33m,\u001b[0m \u001b[1;32mFalse\u001b[0m\u001b[1;33m,\u001b[0m \u001b[1;32mFalse\u001b[0m\u001b[1;33m)\u001b[0m\u001b[1;33m,\u001b[0m\u001b[1;33m\u001b[0m\u001b[1;33m\u001b[0m\u001b[0m\n",
      "\u001b[1;32m~\\anaconda3\\lib\\site-packages\\sqlalchemy\\orm\\persistence.py\u001b[0m in \u001b[0;36msave_obj\u001b[1;34m(base_mapper, states, uowtransaction, single)\u001b[0m\n\u001b[0;32m    240\u001b[0m         )\n\u001b[0;32m    241\u001b[0m \u001b[1;33m\u001b[0m\u001b[0m\n\u001b[1;32m--> 242\u001b[1;33m         _emit_insert_statements(\n\u001b[0m\u001b[0;32m    243\u001b[0m             \u001b[0mbase_mapper\u001b[0m\u001b[1;33m,\u001b[0m\u001b[1;33m\u001b[0m\u001b[1;33m\u001b[0m\u001b[0m\n\u001b[0;32m    244\u001b[0m             \u001b[0muowtransaction\u001b[0m\u001b[1;33m,\u001b[0m\u001b[1;33m\u001b[0m\u001b[1;33m\u001b[0m\u001b[0m\n",
      "\u001b[1;32m~\\anaconda3\\lib\\site-packages\\sqlalchemy\\orm\\persistence.py\u001b[0m in \u001b[0;36m_emit_insert_statements\u001b[1;34m(base_mapper, uowtransaction, mapper, table, insert, bookkeeping)\u001b[0m\n\u001b[0;32m   1217\u001b[0m                         )\n\u001b[0;32m   1218\u001b[0m                     \u001b[1;32melse\u001b[0m\u001b[1;33m:\u001b[0m\u001b[1;33m\u001b[0m\u001b[1;33m\u001b[0m\u001b[0m\n\u001b[1;32m-> 1219\u001b[1;33m                         result = connection._execute_20(\n\u001b[0m\u001b[0;32m   1220\u001b[0m                             \u001b[0mstatement\u001b[0m\u001b[1;33m,\u001b[0m\u001b[1;33m\u001b[0m\u001b[1;33m\u001b[0m\u001b[0m\n\u001b[0;32m   1221\u001b[0m                             \u001b[0mparams\u001b[0m\u001b[1;33m,\u001b[0m\u001b[1;33m\u001b[0m\u001b[1;33m\u001b[0m\u001b[0m\n",
      "\u001b[1;32m~\\anaconda3\\lib\\site-packages\\sqlalchemy\\engine\\base.py\u001b[0m in \u001b[0;36m_execute_20\u001b[1;34m(self, statement, parameters, execution_options)\u001b[0m\n\u001b[0;32m   1581\u001b[0m             )\n\u001b[0;32m   1582\u001b[0m         \u001b[1;32melse\u001b[0m\u001b[1;33m:\u001b[0m\u001b[1;33m\u001b[0m\u001b[1;33m\u001b[0m\u001b[0m\n\u001b[1;32m-> 1583\u001b[1;33m             \u001b[1;32mreturn\u001b[0m \u001b[0mmeth\u001b[0m\u001b[1;33m(\u001b[0m\u001b[0mself\u001b[0m\u001b[1;33m,\u001b[0m \u001b[0margs_10style\u001b[0m\u001b[1;33m,\u001b[0m \u001b[0mkwargs_10style\u001b[0m\u001b[1;33m,\u001b[0m \u001b[0mexecution_options\u001b[0m\u001b[1;33m)\u001b[0m\u001b[1;33m\u001b[0m\u001b[1;33m\u001b[0m\u001b[0m\n\u001b[0m\u001b[0;32m   1584\u001b[0m \u001b[1;33m\u001b[0m\u001b[0m\n\u001b[0;32m   1585\u001b[0m     def exec_driver_sql(\n",
      "\u001b[1;32m~\\anaconda3\\lib\\site-packages\\sqlalchemy\\sql\\elements.py\u001b[0m in \u001b[0;36m_execute_on_connection\u001b[1;34m(self, connection, multiparams, params, execution_options, _force)\u001b[0m\n\u001b[0;32m    321\u001b[0m     ):\n\u001b[0;32m    322\u001b[0m         \u001b[1;32mif\u001b[0m \u001b[0m_force\u001b[0m \u001b[1;32mor\u001b[0m \u001b[0mself\u001b[0m\u001b[1;33m.\u001b[0m\u001b[0msupports_execution\u001b[0m\u001b[1;33m:\u001b[0m\u001b[1;33m\u001b[0m\u001b[1;33m\u001b[0m\u001b[0m\n\u001b[1;32m--> 323\u001b[1;33m             return connection._execute_clauseelement(\n\u001b[0m\u001b[0;32m    324\u001b[0m                 \u001b[0mself\u001b[0m\u001b[1;33m,\u001b[0m \u001b[0mmultiparams\u001b[0m\u001b[1;33m,\u001b[0m \u001b[0mparams\u001b[0m\u001b[1;33m,\u001b[0m \u001b[0mexecution_options\u001b[0m\u001b[1;33m\u001b[0m\u001b[1;33m\u001b[0m\u001b[0m\n\u001b[0;32m    325\u001b[0m             )\n",
      "\u001b[1;32m~\\anaconda3\\lib\\site-packages\\sqlalchemy\\engine\\base.py\u001b[0m in \u001b[0;36m_execute_clauseelement\u001b[1;34m(self, elem, multiparams, params, execution_options)\u001b[0m\n\u001b[0;32m   1450\u001b[0m             \u001b[0mlinting\u001b[0m\u001b[1;33m=\u001b[0m\u001b[0mself\u001b[0m\u001b[1;33m.\u001b[0m\u001b[0mdialect\u001b[0m\u001b[1;33m.\u001b[0m\u001b[0mcompiler_linting\u001b[0m \u001b[1;33m|\u001b[0m \u001b[0mcompiler\u001b[0m\u001b[1;33m.\u001b[0m\u001b[0mWARN_LINTING\u001b[0m\u001b[1;33m,\u001b[0m\u001b[1;33m\u001b[0m\u001b[1;33m\u001b[0m\u001b[0m\n\u001b[0;32m   1451\u001b[0m         )\n\u001b[1;32m-> 1452\u001b[1;33m         ret = self._execute_context(\n\u001b[0m\u001b[0;32m   1453\u001b[0m             \u001b[0mdialect\u001b[0m\u001b[1;33m,\u001b[0m\u001b[1;33m\u001b[0m\u001b[1;33m\u001b[0m\u001b[0m\n\u001b[0;32m   1454\u001b[0m             \u001b[0mdialect\u001b[0m\u001b[1;33m.\u001b[0m\u001b[0mexecution_ctx_cls\u001b[0m\u001b[1;33m.\u001b[0m\u001b[0m_init_compiled\u001b[0m\u001b[1;33m,\u001b[0m\u001b[1;33m\u001b[0m\u001b[1;33m\u001b[0m\u001b[0m\n",
      "\u001b[1;32m~\\anaconda3\\lib\\site-packages\\sqlalchemy\\engine\\base.py\u001b[0m in \u001b[0;36m_execute_context\u001b[1;34m(self, dialect, constructor, statement, parameters, execution_options, *args, **kw)\u001b[0m\n\u001b[0;32m   1812\u001b[0m \u001b[1;33m\u001b[0m\u001b[0m\n\u001b[0;32m   1813\u001b[0m         \u001b[1;32mexcept\u001b[0m \u001b[0mBaseException\u001b[0m \u001b[1;32mas\u001b[0m \u001b[0me\u001b[0m\u001b[1;33m:\u001b[0m\u001b[1;33m\u001b[0m\u001b[1;33m\u001b[0m\u001b[0m\n\u001b[1;32m-> 1814\u001b[1;33m             self._handle_dbapi_exception(\n\u001b[0m\u001b[0;32m   1815\u001b[0m                 \u001b[0me\u001b[0m\u001b[1;33m,\u001b[0m \u001b[0mstatement\u001b[0m\u001b[1;33m,\u001b[0m \u001b[0mparameters\u001b[0m\u001b[1;33m,\u001b[0m \u001b[0mcursor\u001b[0m\u001b[1;33m,\u001b[0m \u001b[0mcontext\u001b[0m\u001b[1;33m\u001b[0m\u001b[1;33m\u001b[0m\u001b[0m\n\u001b[0;32m   1816\u001b[0m             )\n",
      "\u001b[1;32m~\\anaconda3\\lib\\site-packages\\sqlalchemy\\engine\\base.py\u001b[0m in \u001b[0;36m_handle_dbapi_exception\u001b[1;34m(self, e, statement, parameters, cursor, context)\u001b[0m\n\u001b[0;32m   1993\u001b[0m                 \u001b[0mutil\u001b[0m\u001b[1;33m.\u001b[0m\u001b[0mraise_\u001b[0m\u001b[1;33m(\u001b[0m\u001b[0mnewraise\u001b[0m\u001b[1;33m,\u001b[0m \u001b[0mwith_traceback\u001b[0m\u001b[1;33m=\u001b[0m\u001b[0mexc_info\u001b[0m\u001b[1;33m[\u001b[0m\u001b[1;36m2\u001b[0m\u001b[1;33m]\u001b[0m\u001b[1;33m,\u001b[0m \u001b[0mfrom_\u001b[0m\u001b[1;33m=\u001b[0m\u001b[0me\u001b[0m\u001b[1;33m)\u001b[0m\u001b[1;33m\u001b[0m\u001b[1;33m\u001b[0m\u001b[0m\n\u001b[0;32m   1994\u001b[0m             \u001b[1;32melif\u001b[0m \u001b[0mshould_wrap\u001b[0m\u001b[1;33m:\u001b[0m\u001b[1;33m\u001b[0m\u001b[1;33m\u001b[0m\u001b[0m\n\u001b[1;32m-> 1995\u001b[1;33m                 util.raise_(\n\u001b[0m\u001b[0;32m   1996\u001b[0m                     \u001b[0msqlalchemy_exception\u001b[0m\u001b[1;33m,\u001b[0m \u001b[0mwith_traceback\u001b[0m\u001b[1;33m=\u001b[0m\u001b[0mexc_info\u001b[0m\u001b[1;33m[\u001b[0m\u001b[1;36m2\u001b[0m\u001b[1;33m]\u001b[0m\u001b[1;33m,\u001b[0m \u001b[0mfrom_\u001b[0m\u001b[1;33m=\u001b[0m\u001b[0me\u001b[0m\u001b[1;33m\u001b[0m\u001b[1;33m\u001b[0m\u001b[0m\n\u001b[0;32m   1997\u001b[0m                 )\n",
      "\u001b[1;32m~\\anaconda3\\lib\\site-packages\\sqlalchemy\\util\\compat.py\u001b[0m in \u001b[0;36mraise_\u001b[1;34m(***failed resolving arguments***)\u001b[0m\n\u001b[0;32m    205\u001b[0m \u001b[1;33m\u001b[0m\u001b[0m\n\u001b[0;32m    206\u001b[0m         \u001b[1;32mtry\u001b[0m\u001b[1;33m:\u001b[0m\u001b[1;33m\u001b[0m\u001b[1;33m\u001b[0m\u001b[0m\n\u001b[1;32m--> 207\u001b[1;33m             \u001b[1;32mraise\u001b[0m \u001b[0mexception\u001b[0m\u001b[1;33m\u001b[0m\u001b[1;33m\u001b[0m\u001b[0m\n\u001b[0m\u001b[0;32m    208\u001b[0m         \u001b[1;32mfinally\u001b[0m\u001b[1;33m:\u001b[0m\u001b[1;33m\u001b[0m\u001b[1;33m\u001b[0m\u001b[0m\n\u001b[0;32m    209\u001b[0m             \u001b[1;31m# credit to\u001b[0m\u001b[1;33m\u001b[0m\u001b[1;33m\u001b[0m\u001b[0m\n",
      "\u001b[1;32m~\\anaconda3\\lib\\site-packages\\sqlalchemy\\engine\\base.py\u001b[0m in \u001b[0;36m_execute_context\u001b[1;34m(self, dialect, constructor, statement, parameters, execution_options, *args, **kw)\u001b[0m\n\u001b[0;32m   1769\u001b[0m                             \u001b[1;32mbreak\u001b[0m\u001b[1;33m\u001b[0m\u001b[1;33m\u001b[0m\u001b[0m\n\u001b[0;32m   1770\u001b[0m                 \u001b[1;32mif\u001b[0m \u001b[1;32mnot\u001b[0m \u001b[0mevt_handled\u001b[0m\u001b[1;33m:\u001b[0m\u001b[1;33m\u001b[0m\u001b[1;33m\u001b[0m\u001b[0m\n\u001b[1;32m-> 1771\u001b[1;33m                     self.dialect.do_execute(\n\u001b[0m\u001b[0;32m   1772\u001b[0m                         \u001b[0mcursor\u001b[0m\u001b[1;33m,\u001b[0m \u001b[0mstatement\u001b[0m\u001b[1;33m,\u001b[0m \u001b[0mparameters\u001b[0m\u001b[1;33m,\u001b[0m \u001b[0mcontext\u001b[0m\u001b[1;33m\u001b[0m\u001b[1;33m\u001b[0m\u001b[0m\n\u001b[0;32m   1773\u001b[0m                     )\n",
      "\u001b[1;32m~\\anaconda3\\lib\\site-packages\\sqlalchemy\\engine\\default.py\u001b[0m in \u001b[0;36mdo_execute\u001b[1;34m(self, cursor, statement, parameters, context)\u001b[0m\n\u001b[0;32m    715\u001b[0m \u001b[1;33m\u001b[0m\u001b[0m\n\u001b[0;32m    716\u001b[0m     \u001b[1;32mdef\u001b[0m \u001b[0mdo_execute\u001b[0m\u001b[1;33m(\u001b[0m\u001b[0mself\u001b[0m\u001b[1;33m,\u001b[0m \u001b[0mcursor\u001b[0m\u001b[1;33m,\u001b[0m \u001b[0mstatement\u001b[0m\u001b[1;33m,\u001b[0m \u001b[0mparameters\u001b[0m\u001b[1;33m,\u001b[0m \u001b[0mcontext\u001b[0m\u001b[1;33m=\u001b[0m\u001b[1;32mNone\u001b[0m\u001b[1;33m)\u001b[0m\u001b[1;33m:\u001b[0m\u001b[1;33m\u001b[0m\u001b[1;33m\u001b[0m\u001b[0m\n\u001b[1;32m--> 717\u001b[1;33m         \u001b[0mcursor\u001b[0m\u001b[1;33m.\u001b[0m\u001b[0mexecute\u001b[0m\u001b[1;33m(\u001b[0m\u001b[0mstatement\u001b[0m\u001b[1;33m,\u001b[0m \u001b[0mparameters\u001b[0m\u001b[1;33m)\u001b[0m\u001b[1;33m\u001b[0m\u001b[1;33m\u001b[0m\u001b[0m\n\u001b[0m\u001b[0;32m    718\u001b[0m \u001b[1;33m\u001b[0m\u001b[0m\n\u001b[0;32m    719\u001b[0m     \u001b[1;32mdef\u001b[0m \u001b[0mdo_execute_no_params\u001b[0m\u001b[1;33m(\u001b[0m\u001b[0mself\u001b[0m\u001b[1;33m,\u001b[0m \u001b[0mcursor\u001b[0m\u001b[1;33m,\u001b[0m \u001b[0mstatement\u001b[0m\u001b[1;33m,\u001b[0m \u001b[0mcontext\u001b[0m\u001b[1;33m=\u001b[0m\u001b[1;32mNone\u001b[0m\u001b[1;33m)\u001b[0m\u001b[1;33m:\u001b[0m\u001b[1;33m\u001b[0m\u001b[1;33m\u001b[0m\u001b[0m\n",
      "\u001b[1;31mIntegrityError\u001b[0m: (sqlite3.IntegrityError) NOT NULL constraint failed: A.name\n[SQL: INSERT INTO \"A\" (name) VALUES (?)]\n[parameters: (None,)]\n(Background on this error at: https://sqlalche.me/e/14/gkpj)"
     ]
    }
   ],
   "source": [
    "db = Session()\n",
    "a = A()\n",
    "db.add(a)\n",
    "db.flush()"
   ]
  },
  {
   "cell_type": "code",
   "execution_count": null,
   "id": "636fa04f",
   "metadata": {},
   "outputs": [],
   "source": []
  },
  {
   "cell_type": "code",
   "execution_count": 6,
   "id": "58373798",
   "metadata": {},
   "outputs": [],
   "source": [
    "db.add(B(aa=a))\n",
    "db.commit()"
   ]
  },
  {
   "cell_type": "code",
   "execution_count": null,
   "id": "df011d82",
   "metadata": {},
   "outputs": [],
   "source": []
  },
  {
   "cell_type": "code",
   "execution_count": 24,
   "id": "686e6a08",
   "metadata": {},
   "outputs": [],
   "source": [
    "class K():\n",
    "    hello = 5\n",
    "    kk = sa.Column(sa.Integer)\n",
    "    \n",
    "    def blah(self):\n",
    "        print('la')"
   ]
  },
  {
   "cell_type": "code",
   "execution_count": 25,
   "id": "7cc425ac",
   "metadata": {},
   "outputs": [],
   "source": [
    "k = K()"
   ]
  },
  {
   "cell_type": "code",
   "execution_count": 27,
   "id": "b9187ff5",
   "metadata": {},
   "outputs": [
    {
     "data": {
      "text/plain": [
       "sqlalchemy.sql.schema.Column"
      ]
     },
     "execution_count": 27,
     "metadata": {},
     "output_type": "execute_result"
    }
   ],
   "source": [
    "type(k.kk)"
   ]
  },
  {
   "cell_type": "code",
   "execution_count": 31,
   "id": "dc077d4f",
   "metadata": {},
   "outputs": [
    {
     "ename": "TypeError",
     "evalue": "object of type 'Column' has no len()",
     "output_type": "error",
     "traceback": [
      "\u001b[1;31m---------------------------------------------------------------------------\u001b[0m",
      "\u001b[1;31mTypeError\u001b[0m                                 Traceback (most recent call last)",
      "\u001b[1;32m~\\AppData\\Local\\Temp/ipykernel_38980/2809578.py\u001b[0m in \u001b[0;36m<module>\u001b[1;34m\u001b[0m\n\u001b[1;32m----> 1\u001b[1;33m \u001b[0mlen\u001b[0m\u001b[1;33m(\u001b[0m\u001b[0mK\u001b[0m\u001b[1;33m.\u001b[0m\u001b[0mkk\u001b[0m\u001b[1;33m)\u001b[0m\u001b[1;33m\u001b[0m\u001b[1;33m\u001b[0m\u001b[0m\n\u001b[0m",
      "\u001b[1;31mTypeError\u001b[0m: object of type 'Column' has no len()"
     ]
    }
   ],
   "source": [
    "len(K.kk)"
   ]
  },
  {
   "cell_type": "code",
   "execution_count": 28,
   "id": "01d52f6d",
   "metadata": {},
   "outputs": [],
   "source": [
    "k.kk = 'hello'"
   ]
  },
  {
   "cell_type": "code",
   "execution_count": 29,
   "id": "fcecaceb",
   "metadata": {},
   "outputs": [
    {
     "data": {
      "text/plain": [
       "'hello'"
      ]
     },
     "execution_count": 29,
     "metadata": {},
     "output_type": "execute_result"
    }
   ],
   "source": [
    "k.kk"
   ]
  }
 ],
 "metadata": {
  "kernelspec": {
   "display_name": "Python 3 (ipykernel)",
   "language": "python",
   "name": "python3"
  },
  "language_info": {
   "codemirror_mode": {
    "name": "ipython",
    "version": 3
   },
   "file_extension": ".py",
   "mimetype": "text/x-python",
   "name": "python",
   "nbconvert_exporter": "python",
   "pygments_lexer": "ipython3",
   "version": "3.9.7"
  }
 },
 "nbformat": 4,
 "nbformat_minor": 5
}
